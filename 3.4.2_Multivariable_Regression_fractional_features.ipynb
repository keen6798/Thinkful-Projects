{
 "cells": [
  {
   "cell_type": "markdown",
   "metadata": {},
   "source": [
    "I have prepared this data to model with multivariable regression according to this specification:\n",
    "\n",
    "$$ Property crime = \\alpha + log(Population) + fraction(larceny) + fraction(Murder) + fraction(car theft)$$"
   ]
  },
  {
   "cell_type": "code",
   "execution_count": 1,
   "metadata": {},
   "outputs": [],
   "source": [
    "import pandas as pd\n",
    "from matplotlib import pyplot as plt\n",
    "import numpy as np\n",
    "import seaborn as sns\n",
    "from sklearn import linear_model\n",
    "import statsmodels.formula.api as smf\n",
    "\n",
    "%matplotlib inline"
   ]
  },
  {
   "cell_type": "code",
   "execution_count": 2,
   "metadata": {},
   "outputs": [],
   "source": [
    "df = pd.read_excel('table_8_offenses_known_to_law_enforcement_new_york_by_city_2013.xls', header=4)\n",
    "drop_df = df.drop('Rape\\n(revised\\ndefinition)1',axis=1) #removing column because only NaN values\n",
    "crime_df = drop_df[:-3] #Last three rows are not data"
   ]
  },
  {
   "cell_type": "code",
   "execution_count": 3,
   "metadata": {},
   "outputs": [
    {
     "data": {
      "text/html": [
       "<div>\n",
       "<style scoped>\n",
       "    .dataframe tbody tr th:only-of-type {\n",
       "        vertical-align: middle;\n",
       "    }\n",
       "\n",
       "    .dataframe tbody tr th {\n",
       "        vertical-align: top;\n",
       "    }\n",
       "\n",
       "    .dataframe thead th {\n",
       "        text-align: right;\n",
       "    }\n",
       "</style>\n",
       "<table border=\"1\" class=\"dataframe\">\n",
       "  <thead>\n",
       "    <tr style=\"text-align: right;\">\n",
       "      <th></th>\n",
       "      <th>log_population</th>\n",
       "      <th>frac_assault</th>\n",
       "      <th>frac_robbery</th>\n",
       "      <th>frac_murder</th>\n",
       "      <th>log_property_crime</th>\n",
       "    </tr>\n",
       "  </thead>\n",
       "  <tbody>\n",
       "    <tr>\n",
       "      <th>0</th>\n",
       "      <td>7.528869</td>\n",
       "      <td>0.000000</td>\n",
       "      <td>0.000000</td>\n",
       "      <td>0.0</td>\n",
       "      <td>2.484907</td>\n",
       "    </tr>\n",
       "    <tr>\n",
       "      <th>1</th>\n",
       "      <td>7.854381</td>\n",
       "      <td>11.641444</td>\n",
       "      <td>0.000000</td>\n",
       "      <td>0.0</td>\n",
       "      <td>3.178054</td>\n",
       "    </tr>\n",
       "    <tr>\n",
       "      <th>2</th>\n",
       "      <td>7.953670</td>\n",
       "      <td>10.541110</td>\n",
       "      <td>0.000000</td>\n",
       "      <td>0.0</td>\n",
       "      <td>2.772589</td>\n",
       "    </tr>\n",
       "    <tr>\n",
       "      <th>4</th>\n",
       "      <td>8.762177</td>\n",
       "      <td>25.046963</td>\n",
       "      <td>6.261741</td>\n",
       "      <td>0.0</td>\n",
       "      <td>5.407172</td>\n",
       "    </tr>\n",
       "    <tr>\n",
       "      <th>5</th>\n",
       "      <td>8.316056</td>\n",
       "      <td>4.891171</td>\n",
       "      <td>7.336757</td>\n",
       "      <td>0.0</td>\n",
       "      <td>3.828641</td>\n",
       "    </tr>\n",
       "  </tbody>\n",
       "</table>\n",
       "</div>"
      ],
      "text/plain": [
       "   log_population  frac_assault  frac_robbery  frac_murder  log_property_crime\n",
       "0        7.528869      0.000000      0.000000          0.0            2.484907\n",
       "1        7.854381     11.641444      0.000000          0.0            3.178054\n",
       "2        7.953670     10.541110      0.000000          0.0            2.772589\n",
       "4        8.762177     25.046963      6.261741          0.0            5.407172\n",
       "5        8.316056      4.891171      7.336757          0.0            3.828641"
      ]
     },
     "execution_count": 3,
     "metadata": {},
     "output_type": "execute_result"
    }
   ],
   "source": [
    "property_crime = pd.DataFrame()\n",
    "n = 10000 #per 1000 people\n",
    "\n",
    "#features\n",
    "property_crime['log_population'] = np.log(crime_df['Population'])\n",
    "property_crime['frac_assault'] = (crime_df['Aggravated\\nassault']/crime_df['Population'])*n\n",
    "property_crime['frac_robbery'] = (crime_df['Robbery']/crime_df['Population'])*n\n",
    "property_crime['frac_murder'] = (crime_df['Murder and\\nnonnegligent\\nmanslaughter']/crime_df['Population'])*n\n",
    "\n",
    "#dependent variable\n",
    "property_crime['log_property_crime'] = crime_df['Property\\ncrime']\n",
    "\n",
    "drop_index = np.concatenate((np.where(property_crime['log_population'] == property_crime['log_population'].max())[0], \n",
    "                            np.where(property_crime['log_property_crime'] == 0)[0],\n",
    "                            property_crime['frac_assault'].nlargest(21).index,\n",
    "                            property_crime['frac_robbery'].nlargest(20).index,\n",
    "                            property_crime['frac_murder'].nlargest(5).index))\n",
    "property_crime = property_crime.drop(drop_index, axis=0)\n",
    "\n",
    "property_crime['log_property_crime'] = np.log(property_crime['log_property_crime'])\n",
    "\n",
    "drop_index_new = np.concatenate((property_crime['log_property_crime'].nlargest(2).index, \n",
    "                                 property_crime['log_property_crime'].nsmallest(1).index))\n",
    "property_crime = property_crime.drop(drop_index_new, axis=0)\n",
    "\n",
    "property_crime.head()"
   ]
  },
  {
   "cell_type": "markdown",
   "metadata": {},
   "source": [
    "Here I chose to take the log values of the property crime and the population to normalize the distributions. Then I took the features for larceny, robbery, and murder and divided each one by the population so that the features is in fraction of the feature per population."
   ]
  },
  {
   "cell_type": "code",
   "execution_count": 5,
   "metadata": {},
   "outputs": [
    {
     "data": {
      "text/html": [
       "<div>\n",
       "<style scoped>\n",
       "    .dataframe tbody tr th:only-of-type {\n",
       "        vertical-align: middle;\n",
       "    }\n",
       "\n",
       "    .dataframe tbody tr th {\n",
       "        vertical-align: top;\n",
       "    }\n",
       "\n",
       "    .dataframe thead th {\n",
       "        text-align: right;\n",
       "    }\n",
       "</style>\n",
       "<table border=\"1\" class=\"dataframe\">\n",
       "  <thead>\n",
       "    <tr style=\"text-align: right;\">\n",
       "      <th></th>\n",
       "      <th>log_population</th>\n",
       "      <th>frac_assault</th>\n",
       "      <th>frac_robbery</th>\n",
       "      <th>frac_murder</th>\n",
       "      <th>log_property_crime</th>\n",
       "    </tr>\n",
       "  </thead>\n",
       "  <tbody>\n",
       "    <tr>\n",
       "      <th>0</th>\n",
       "      <td>7.528869</td>\n",
       "      <td>0.000000</td>\n",
       "      <td>0.000000</td>\n",
       "      <td>0.0</td>\n",
       "      <td>2.484907</td>\n",
       "    </tr>\n",
       "    <tr>\n",
       "      <th>1</th>\n",
       "      <td>7.854381</td>\n",
       "      <td>11.641444</td>\n",
       "      <td>0.000000</td>\n",
       "      <td>0.0</td>\n",
       "      <td>3.178054</td>\n",
       "    </tr>\n",
       "    <tr>\n",
       "      <th>2</th>\n",
       "      <td>7.953670</td>\n",
       "      <td>10.541110</td>\n",
       "      <td>0.000000</td>\n",
       "      <td>0.0</td>\n",
       "      <td>2.772589</td>\n",
       "    </tr>\n",
       "    <tr>\n",
       "      <th>4</th>\n",
       "      <td>8.762177</td>\n",
       "      <td>25.046963</td>\n",
       "      <td>6.261741</td>\n",
       "      <td>0.0</td>\n",
       "      <td>5.407172</td>\n",
       "    </tr>\n",
       "    <tr>\n",
       "      <th>5</th>\n",
       "      <td>8.316056</td>\n",
       "      <td>4.891171</td>\n",
       "      <td>7.336757</td>\n",
       "      <td>0.0</td>\n",
       "      <td>3.828641</td>\n",
       "    </tr>\n",
       "  </tbody>\n",
       "</table>\n",
       "</div>"
      ],
      "text/plain": [
       "   log_population  frac_assault  frac_robbery  frac_murder  log_property_crime\n",
       "0        7.528869      0.000000      0.000000          0.0            2.484907\n",
       "1        7.854381     11.641444      0.000000          0.0            3.178054\n",
       "2        7.953670     10.541110      0.000000          0.0            2.772589\n",
       "4        8.762177     25.046963      6.261741          0.0            5.407172\n",
       "5        8.316056      4.891171      7.336757          0.0            3.828641"
      ]
     },
     "metadata": {},
     "output_type": "display_data"
    },
    {
     "name": "stdout",
     "output_type": "stream",
     "text": [
      "\n",
      "Coefficients: \n",
      " [[ 1.03447694  0.03243141  0.08676027 -0.07776877]]\n",
      "\n",
      "Intercept: \n",
      " [-5.00879398]\n",
      "\n",
      "R-squared:\n",
      "0.7961967978697575\n"
     ]
    }
   ],
   "source": [
    "display(property_crime.head())\n",
    "\n",
    "# Instantiate and fit our model.\n",
    "regr = linear_model.LinearRegression()\n",
    "Y = property_crime['log_property_crime'].values.reshape(-1, 1)\n",
    "X = property_crime[['log_population','frac_assault','frac_robbery','frac_murder']]\n",
    "regr.fit(X, Y)\n",
    "\n",
    "# Inspect the results.\n",
    "print('\\nCoefficients: \\n', regr.coef_)\n",
    "print('\\nIntercept: \\n', regr.intercept_)\n",
    "print('\\nR-squared:')\n",
    "print(regr.score(X, Y))"
   ]
  },
  {
   "cell_type": "markdown",
   "metadata": {},
   "source": [
    "Here, our model where the outcome Property Crime is predicted by the features population, larceny, robbery, and murder (percent of population) explains $79.6%$ of the variance in property crime. \n",
    "\n",
    "The intercept is negative and the highest increase in property crime comes from population (1.03)). "
   ]
  },
  {
   "cell_type": "code",
   "execution_count": null,
   "metadata": {},
   "outputs": [],
   "source": [
    "# Extract predicted values.\n",
    "predicted = regr.predict(X).ravel()\n",
    "actual = (property_crime['log_property_crime'])\n",
    "\n",
    "# Calculate the error, also called the residual.\n",
    "residual = actual - predicted\n",
    "\n",
    "# This looks a bit concerning.\n",
    "plt.hist(residual)\n",
    "plt.title('Residual counts')\n",
    "plt.xlabel('Residual')\n",
    "plt.ylabel('Count')\n",
    "plt.show()"
   ]
  },
  {
   "cell_type": "code",
   "execution_count": null,
   "metadata": {},
   "outputs": [],
   "source": [
    "plt.scatter(predicted, residual)\n",
    "plt.xlabel('Predicted')\n",
    "plt.ylabel('Residual')\n",
    "plt.axhline(y=0)\n",
    "plt.title('Residual vs. Predicted')\n",
    "plt.ylim(-5,5)\n",
    "plt.xlim(0,10)\n",
    "plt.show()"
   ]
  },
  {
   "cell_type": "code",
   "execution_count": null,
   "metadata": {},
   "outputs": [],
   "source": [
    "correlation_matrix = X.corr()\n",
    "display(correlation_matrix)"
   ]
  },
  {
   "cell_type": "code",
   "execution_count": null,
   "metadata": {},
   "outputs": [],
   "source": [
    "plt.figure(figsize = (10,8))\n",
    "sns.heatmap(property_crime.corr())\n",
    "\n",
    "plt.show()"
   ]
  },
  {
   "cell_type": "code",
   "execution_count": null,
   "metadata": {},
   "outputs": [],
   "source": []
  }
 ],
 "metadata": {
  "kernelspec": {
   "display_name": "Python 3",
   "language": "python",
   "name": "python3"
  },
  "language_info": {
   "codemirror_mode": {
    "name": "ipython",
    "version": 3
   },
   "file_extension": ".py",
   "mimetype": "text/x-python",
   "name": "python",
   "nbconvert_exporter": "python",
   "pygments_lexer": "ipython3",
   "version": "3.7.0"
  }
 },
 "nbformat": 4,
 "nbformat_minor": 2
}
