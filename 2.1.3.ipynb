{
 "cells": [
  {
   "cell_type": "markdown",
   "metadata": {},
   "source": [
    "1. What is the 1994 rate of juvenile delinquency in the U.S.?\n",
    "    This research question is bad.\n",
    "    - The question is too simple. The answer to this question is just a number. Changing the question so that it compares rates between years might be a better quesiton to ask.   \n",
    "    \n",
    "2. What can we do to reduce juvenile delinquency in the U.S.?\n",
    "    This reseach question is good.\n",
    "    \n",
    "3. Does education play a role in reducing juvenile delinquents' return to crime?\n",
    "    This research question is bad.\n",
    "    - Instead of asking if education itself place a role (which in the end is a yes or no question), ask HOW it plays a role. \n",
    "    \n",
    "4. How many customers does AT&T currently serve in Washington, DC?\n",
    "    This research question is bad.\n",
    "    - The question in the end only results in a number. Instead, ask how the number of customers in Washington, DC comapre to the rest if the US.\n",
    "    \n",
    "5. What factors lead consumers to choose AT&T over other service providers?\n",
    "    This research question is good.\n",
    "    \n",
    "6. How can AT&T attract more customers?\n",
    "    This research question is bad.\n",
    "    - This question is too broad. Instead, maybe focus it a little more by focusing on attracting a certain kind of customers such as long term customers that are, in general, better for business. \n",
    "    \n",
    "7. Why did the Challenger Shuttle explode?\n",
    "    This research question is bad.\n",
    "    - Should narrow it down to what contributed to the explostion, or the sequence of events. The question itself is a little open to interpretation.  \n",
    "    \n",
    "8. Which genes are associated with increased risk of breast cancer?\n",
    "   this research question is good.\n",
    "    \n",
    "9. Is it better to read to children at night or in the morning?\n",
    "   This research question is bad.\n",
    "   - There is nothing defining what it means to be 'better'. What is the measure? Would change it to, 'Is it better for a childs sleeping pattern to read to children at night or in the morning?' or it could ask about learning capability etc...\n",
    "\n",
    "10. How does Google’s search algorithm work?\n",
    "    This research question is bad \n",
    "    - This question is too simple, because there is already simple answers. It would be better to compare to other algorithms or measuring the performance of the algorithm."
   ]
  }
 ],
 "metadata": {
  "kernelspec": {
   "display_name": "Python 3",
   "language": "python",
   "name": "python3"
  },
  "language_info": {
   "codemirror_mode": {
    "name": "ipython",
    "version": 3
   },
   "file_extension": ".py",
   "mimetype": "text/x-python",
   "name": "python",
   "nbconvert_exporter": "python",
   "pygments_lexer": "ipython3",
   "version": "3.7.0"
  }
 },
 "nbformat": 4,
 "nbformat_minor": 2
}
