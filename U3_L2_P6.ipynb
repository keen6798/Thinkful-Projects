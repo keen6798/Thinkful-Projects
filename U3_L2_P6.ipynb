{
 "cells": [
  {
   "cell_type": "markdown",
   "metadata": {},
   "source": [
    "#### 1. Be Positive`\n",
    "\n",
    "$P(\\text{positive}) = (0.98)(0.005) + (0.1)(0.995)$\n",
    "\n",
    "#### 2. Correctly diagnose a sufferer of Thripshaw's\n",
    "$P(\\text{positive|sufferer}) = 0.98$\n",
    "\n",
    "#### 3. Correctly identify a non-sufferer of Thripshaw's\n",
    "$P(\\text{negative|non-sufferer}) = 1 - 0.1 = 0.9$\n",
    "\n",
    "#### 4. missclassify the person\n",
    "$P(\\text{misclassify}) = 1 - ((.98)(.005) + (.9)(0.995)) = 0.0996$"
   ]
  }
 ],
 "metadata": {
  "kernelspec": {
   "display_name": "Python 3",
   "language": "python",
   "name": "python3"
  },
  "language_info": {
   "codemirror_mode": {
    "name": "ipython",
    "version": 3
   },
   "file_extension": ".py",
   "mimetype": "text/x-python",
   "name": "python",
   "nbconvert_exporter": "python",
   "pygments_lexer": "ipython3",
   "version": "3.7.0"
  }
 },
 "nbformat": 4,
 "nbformat_minor": 2
}
