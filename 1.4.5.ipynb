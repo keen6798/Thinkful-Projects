{
 "cells": [
  {
   "cell_type": "markdown",
   "metadata": {},
   "source": [
    "#### Look back to the potential experiments in the previous assignment. For one of those experiments, write up the essential points of a research proposal for an improved version of that experiment."
   ]
  },
  {
   "cell_type": "markdown",
   "metadata": {},
   "source": [
    "Topic chosen:\n",
    "\n",
    "To prevent cheating, a teacher writes three versions of a test. She stacks the three versions together, first all copies of Version A, then all copies of Version B, then all copies of Version C. As students arrive for the exam, each student takes a test. When grading the test, the teacher finds that students who took Version B scored higher than students who took either Version A or Version C. She concludes from this that Version B is easier, and discards it."
   ]
  },
  {
   "cell_type": "markdown",
   "metadata": {},
   "source": [
    "The problem: Students Cheating on tests.\n",
    "\n",
    "The solution: Using multiple tests. This should decrease the ability for students to cheat since it will decrease the ability for students to see the same tests near them for copying. \n",
    "    \n",
    "The method of testing the solution: \n",
    "\n",
    "notes: Assuming here that this is a college course in which the professor teaches the same course mutlitple times a day at different times. This method will also work better if they teach larger classes where the probability of cheating is high (most likely why this would be such a concern for them).\n",
    "\n",
    "Method: Depending on how many courses the teacher teaches, group half and half. For half of the courses, make 3 versions of the test A, B, and C. Each version will have the same questions, but ordered differently (eliminating the possibility that any of the tests are harder or easier than the other). I would organize the tests in such a way that the stack has version A, version B, version C, then version A, version B, version C... etc. Then I would wait until all of the students are seated for the exam and then pass them out to each student along rows. This way, each student will have a different test on either side and will reduce the ability for students to copy off of the student next to them. Not only might this be effective because the tests next to them will be different, but usually friends sit next to eachother and will also make it so that possibly communicating silently about their tests will also be hindered. Testing the two groups will allow the professor to verify that this method works. I would give the second group only Exam A. The professor can then compare the averages for Exam A between the class that was given different versions and the class that took only version A. If there is a significant difference in the mean values between the two groups, then the teacher would then know that the version-method works. If the method works, then she can implement this method in every class. "
   ]
  }
 ],
 "metadata": {
  "kernelspec": {
   "display_name": "Python 3",
   "language": "python",
   "name": "python3"
  },
  "language_info": {
   "codemirror_mode": {
    "name": "ipython",
    "version": 3
   },
   "file_extension": ".py",
   "mimetype": "text/x-python",
   "name": "python",
   "nbconvert_exporter": "python",
   "pygments_lexer": "ipython3",
   "version": "3.7.0"
  }
 },
 "nbformat": 4,
 "nbformat_minor": 2
}
