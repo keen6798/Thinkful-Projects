{
 "cells": [
  {
   "cell_type": "markdown",
   "metadata": {},
   "source": [
    "#### 1.\n",
    "The biggest shortcoming of this scenario is that it is the day before christmas, presumably the most popular time of the year for travel so this data set would be skewed from normal times of the year or other travel seasons like during the summer. This data may still give popular neighborhoods (the ones that filled up the most even when so busy), but some neighborhoods that may not normally get so much attention could get spill over when the more preferable neighborhoods are full.\n",
    "\n",
    "The question could be re-phrased to compare neighborhood airbnb areas over the holiday period. \n",
    "\n",
    "#### 2. \n",
    "The potential shortcoming with comparing this data is that this is the day after the 9/11 attacks and the mental health facility use would have a much higher rate (perhaps all over) but particularily in New York where many people were personally affected or involved in some way.\n",
    "\n",
    "The question could be changed to see the difference between mental health facility use from people who are more closely affected by the attacks than all the way accross the country. \n",
    "\n",
    "#### 3. \n",
    "It seems that in this survay, all of the respondents are relatively young (<25 years old) and most of them are students. This could be rephrased to be about american students or american young adults. "
   ]
  }
 ],
 "metadata": {
  "kernelspec": {
   "display_name": "Python 3",
   "language": "python",
   "name": "python3"
  },
  "language_info": {
   "codemirror_mode": {
    "name": "ipython",
    "version": 3
   },
   "file_extension": ".py",
   "mimetype": "text/x-python",
   "name": "python",
   "nbconvert_exporter": "python",
   "pygments_lexer": "ipython3",
   "version": "3.7.0"
  }
 },
 "nbformat": 4,
 "nbformat_minor": 2
}
