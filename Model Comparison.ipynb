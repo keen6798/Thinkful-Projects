{
 "cells": [
  {
   "cell_type": "markdown",
   "metadata": {},
   "source": [
    "# Model Comparison"
   ]
  },
  {
   "cell_type": "code",
   "execution_count": 126,
   "metadata": {},
   "outputs": [],
   "source": [
    "import pandas as pd\n",
    "import numpy as np\n",
    "import matplotlib.pyplot as plt\n",
    "import seaborn as sns\n",
    "import scipy\n",
    "from scipy import stats\n",
    "\n",
    "from sklearn import linear_model\n",
    "from sklearn.model_selection import cross_val_score\n",
    "from sklearn import neighbors\n",
    "\n",
    "import statsmodels.formula.api as smf\n",
    "from statsmodels.sandbox.regression.predstd import wls_prediction_std\n",
    "\n",
    "%matplotlib inline"
   ]
  },
  {
   "cell_type": "code",
   "execution_count": 104,
   "metadata": {},
   "outputs": [
    {
     "data": {
      "text/html": [
       "<div>\n",
       "<style scoped>\n",
       "    .dataframe tbody tr th:only-of-type {\n",
       "        vertical-align: middle;\n",
       "    }\n",
       "\n",
       "    .dataframe tbody tr th {\n",
       "        vertical-align: top;\n",
       "    }\n",
       "\n",
       "    .dataframe thead th {\n",
       "        text-align: right;\n",
       "    }\n",
       "</style>\n",
       "<table border=\"1\" class=\"dataframe\">\n",
       "  <thead>\n",
       "    <tr style=\"text-align: right;\">\n",
       "      <th></th>\n",
       "      <th>Serial No.</th>\n",
       "      <th>GRE Score</th>\n",
       "      <th>TOEFL Score</th>\n",
       "      <th>University Rating</th>\n",
       "      <th>SOP</th>\n",
       "      <th>LOR</th>\n",
       "      <th>CGPA</th>\n",
       "      <th>Research</th>\n",
       "      <th>Chance of Admit</th>\n",
       "    </tr>\n",
       "  </thead>\n",
       "  <tbody>\n",
       "    <tr>\n",
       "      <th>0</th>\n",
       "      <td>1</td>\n",
       "      <td>337</td>\n",
       "      <td>118</td>\n",
       "      <td>4</td>\n",
       "      <td>4.5</td>\n",
       "      <td>4.5</td>\n",
       "      <td>9.65</td>\n",
       "      <td>1</td>\n",
       "      <td>0.92</td>\n",
       "    </tr>\n",
       "    <tr>\n",
       "      <th>1</th>\n",
       "      <td>2</td>\n",
       "      <td>324</td>\n",
       "      <td>107</td>\n",
       "      <td>4</td>\n",
       "      <td>4.0</td>\n",
       "      <td>4.5</td>\n",
       "      <td>8.87</td>\n",
       "      <td>1</td>\n",
       "      <td>0.76</td>\n",
       "    </tr>\n",
       "    <tr>\n",
       "      <th>2</th>\n",
       "      <td>3</td>\n",
       "      <td>316</td>\n",
       "      <td>104</td>\n",
       "      <td>3</td>\n",
       "      <td>3.0</td>\n",
       "      <td>3.5</td>\n",
       "      <td>8.00</td>\n",
       "      <td>1</td>\n",
       "      <td>0.72</td>\n",
       "    </tr>\n",
       "    <tr>\n",
       "      <th>3</th>\n",
       "      <td>4</td>\n",
       "      <td>322</td>\n",
       "      <td>110</td>\n",
       "      <td>3</td>\n",
       "      <td>3.5</td>\n",
       "      <td>2.5</td>\n",
       "      <td>8.67</td>\n",
       "      <td>1</td>\n",
       "      <td>0.80</td>\n",
       "    </tr>\n",
       "    <tr>\n",
       "      <th>4</th>\n",
       "      <td>5</td>\n",
       "      <td>314</td>\n",
       "      <td>103</td>\n",
       "      <td>2</td>\n",
       "      <td>2.0</td>\n",
       "      <td>3.0</td>\n",
       "      <td>8.21</td>\n",
       "      <td>0</td>\n",
       "      <td>0.65</td>\n",
       "    </tr>\n",
       "  </tbody>\n",
       "</table>\n",
       "</div>"
      ],
      "text/plain": [
       "   Serial No.  GRE Score  TOEFL Score  University Rating  SOP  LOR   CGPA  \\\n",
       "0           1        337          118                  4  4.5   4.5  9.65   \n",
       "1           2        324          107                  4  4.0   4.5  8.87   \n",
       "2           3        316          104                  3  3.0   3.5  8.00   \n",
       "3           4        322          110                  3  3.5   2.5  8.67   \n",
       "4           5        314          103                  2  2.0   3.0  8.21   \n",
       "\n",
       "   Research  Chance of Admit   \n",
       "0         1              0.92  \n",
       "1         1              0.76  \n",
       "2         1              0.72  \n",
       "3         1              0.80  \n",
       "4         0              0.65  "
      ]
     },
     "execution_count": 104,
     "metadata": {},
     "output_type": "execute_result"
    }
   ],
   "source": [
    "df = pd.read_csv('Admission_Predict.csv')\n",
    "df.head()"
   ]
  },
  {
   "cell_type": "code",
   "execution_count": 113,
   "metadata": {},
   "outputs": [
    {
     "data": {
      "text/html": [
       "<div>\n",
       "<style scoped>\n",
       "    .dataframe tbody tr th:only-of-type {\n",
       "        vertical-align: middle;\n",
       "    }\n",
       "\n",
       "    .dataframe tbody tr th {\n",
       "        vertical-align: top;\n",
       "    }\n",
       "\n",
       "    .dataframe thead th {\n",
       "        text-align: right;\n",
       "    }\n",
       "</style>\n",
       "<table border=\"1\" class=\"dataframe\">\n",
       "  <thead>\n",
       "    <tr style=\"text-align: right;\">\n",
       "      <th></th>\n",
       "      <th>GRE_score</th>\n",
       "      <th>TOEFL_score</th>\n",
       "      <th>LOR</th>\n",
       "      <th>CGPA</th>\n",
       "      <th>Research</th>\n",
       "      <th>Chance_of_admit</th>\n",
       "    </tr>\n",
       "  </thead>\n",
       "  <tbody>\n",
       "    <tr>\n",
       "      <th>0</th>\n",
       "      <td>337</td>\n",
       "      <td>118</td>\n",
       "      <td>4.5</td>\n",
       "      <td>9.65</td>\n",
       "      <td>1</td>\n",
       "      <td>0.92</td>\n",
       "    </tr>\n",
       "    <tr>\n",
       "      <th>1</th>\n",
       "      <td>324</td>\n",
       "      <td>107</td>\n",
       "      <td>4.5</td>\n",
       "      <td>8.87</td>\n",
       "      <td>1</td>\n",
       "      <td>0.76</td>\n",
       "    </tr>\n",
       "    <tr>\n",
       "      <th>2</th>\n",
       "      <td>316</td>\n",
       "      <td>104</td>\n",
       "      <td>3.5</td>\n",
       "      <td>8.00</td>\n",
       "      <td>1</td>\n",
       "      <td>0.72</td>\n",
       "    </tr>\n",
       "    <tr>\n",
       "      <th>3</th>\n",
       "      <td>322</td>\n",
       "      <td>110</td>\n",
       "      <td>2.5</td>\n",
       "      <td>8.67</td>\n",
       "      <td>1</td>\n",
       "      <td>0.80</td>\n",
       "    </tr>\n",
       "    <tr>\n",
       "      <th>4</th>\n",
       "      <td>314</td>\n",
       "      <td>103</td>\n",
       "      <td>3.0</td>\n",
       "      <td>8.21</td>\n",
       "      <td>0</td>\n",
       "      <td>0.65</td>\n",
       "    </tr>\n",
       "  </tbody>\n",
       "</table>\n",
       "</div>"
      ],
      "text/plain": [
       "   GRE_score  TOEFL_score  LOR  CGPA  Research  Chance_of_admit\n",
       "0        337          118  4.5  9.65         1             0.92\n",
       "1        324          107  4.5  8.87         1             0.76\n",
       "2        316          104  3.5  8.00         1             0.72\n",
       "3        322          110  2.5  8.67         1             0.80\n",
       "4        314          103  3.0  8.21         0             0.65"
      ]
     },
     "execution_count": 113,
     "metadata": {},
     "output_type": "execute_result"
    }
   ],
   "source": [
    "#setting up the data\n",
    "\n",
    "data = pd.DataFrame()\n",
    "data['GRE_score'] = df['GRE Score']\n",
    "data['TOEFL_score'] = df['TOEFL Score']\n",
    "\n",
    "#removed these data (below) because the p-values were too high - the data was not contributing to the model\n",
    "# data['University_rating'] = df['University Rating']\n",
    "# data['SOP'] = df['SOP']\n",
    "\n",
    "data['LOR'] = df['LOR ']\n",
    "data['CGPA'] = df['CGPA']\n",
    "data['Research'] = df['Research']\n",
    "data['Chance_of_admit'] = df['Chance of Admit ']\n",
    "data.head()"
   ]
  },
  {
   "cell_type": "markdown",
   "metadata": {},
   "source": [
    "# Linear Regression Model"
   ]
  },
  {
   "cell_type": "code",
   "execution_count": 310,
   "metadata": {},
   "outputs": [
    {
     "name": "stdout",
     "output_type": "stream",
     "text": [
      "paramaters:\n",
      "Intercept     -1.298464\n",
      "GRE_score      0.001782\n",
      "TOEFL_score    0.003032\n",
      "LOR            0.022776\n",
      "CGPA           0.121004\n",
      "Research       0.024577\n",
      "dtype: float64 \n",
      "\n",
      "p-values:\n",
      "Intercept      5.514493e-25\n",
      "GRE_score      2.943359e-03\n",
      "TOEFL_score    4.650492e-03\n",
      "LOR            2.974202e-06\n",
      "CGPA           3.132981e-22\n",
      "Research       2.053607e-03\n",
      "dtype: float64 \n",
      "\n",
      "R^2:\n",
      "0.8027222805038366 \n",
      "\n",
      "convidence intervals:\n",
      "                    0         1      wide\n",
      "Intercept   -1.529057 -1.067870  0.461187\n",
      "GRE_score    0.000611  0.002953  0.002342\n",
      "TOEFL_score  0.000938  0.005126  0.004188\n",
      "LOR          0.013332  0.032221  0.018889\n",
      "CGPA         0.097933  0.144075  0.046142\n",
      "Research     0.009006  0.040148  0.031143\n"
     ]
    },
    {
     "data": {
      "image/png": "[encoded data removed]",
      "text/plain": [
       "<Figure size 576x576 with 1 Axes>"
      ]
     },
     "metadata": {},
     "output_type": "display_data"
    },
    {
     "name": "stdout",
     "output_type": "stream",
     "text": [
      "                            OLS Regression Results                            \n",
      "==============================================================================\n",
      "Dep. Variable:        Chance_of_admit   R-squared:                       0.803\n",
      "Model:                            OLS   Adj. R-squared:                  0.800\n",
      "Method:                 Least Squares   F-statistic:                     320.6\n",
      "Date:                Fri, 08 Feb 2019   Prob (F-statistic):          2.04e-136\n",
      "Time:                        12:48:55   Log-Likelihood:                 536.61\n",
      "No. Observations:                 400   AIC:                            -1061.\n",
      "Df Residuals:                     394   BIC:                            -1037.\n",
      "Df Model:                           5                                         \n",
      "Covariance Type:            nonrobust                                         \n",
      "===============================================================================\n",
      "                  coef    std err          t      P>|t|      [0.025      0.975]\n",
      "-------------------------------------------------------------------------------\n",
      "Intercept      -1.2985      0.117    -11.070      0.000      -1.529      -1.068\n",
      "GRE_score       0.0018      0.001      2.992      0.003       0.001       0.003\n",
      "TOEFL_score     0.0030      0.001      2.847      0.005       0.001       0.005\n",
      "LOR             0.0228      0.005      4.741      0.000       0.013       0.032\n",
      "CGPA            0.1210      0.012     10.312      0.000       0.098       0.144\n",
      "Research        0.0246      0.008      3.103      0.002       0.009       0.040\n",
      "==============================================================================\n",
      "Omnibus:                       87.489   Durbin-Watson:                   0.750\n",
      "Prob(Omnibus):                  0.000   Jarque-Bera (JB):              179.337\n",
      "Skew:                          -1.157   Prob(JB):                     1.14e-39\n",
      "Kurtosis:                       5.325   Cond. No.                     1.23e+04\n",
      "==============================================================================\n",
      "\n",
      "Warnings:\n",
      "[1] Standard Errors assume that the covariance matrix of the errors is correctly specified.\n",
      "[2] The condition number is large, 1.23e+04. This might indicate that there are\n",
      "strong multicollinearity or other numerical problems.\n"
     ]
    }
   ],
   "source": [
    "linear_formula = 'Chance_of_admit ~ GRE_score+TOEFL_score+LOR+CGPA+Research'\n",
    "\n",
    "#fit the model to the data\n",
    "lm = smf.ols(formula=linear_formula, data=data).fit()\n",
    "print('paramaters:')\n",
    "print(lm.params, '\\n')\n",
    "print('p-values:')\n",
    "print(lm.pvalues, '\\n')\n",
    "print('R^2:')\n",
    "print(lm.rsquared, '\\n')\n",
    "\n",
    "#confidence intervals\n",
    "conf_int = lm.conf_int()\n",
    "conf_int['wide'] = abs(conf_int[1] - conf_int[0])\n",
    "print('convidence intervals:')\n",
    "print(conf_int)\n",
    "      \n",
    "# Use wls_prediction_std to build confidence intervals\n",
    "\n",
    "prstd, iv_l, iv_u = wls_prediction_std(lm)\n",
    "\n",
    "plt.figure(figsize=(8,8))\n",
    "plt.plot(iv_u[0:25], '--', color='r')\n",
    "plt.plot(iv_l[0:25], '--', color='r')\n",
    "plt.plot(lm.fittedvalues[0:25], color='orange')\n",
    "plt.plot(data['Chance_of_admit'][0:25], 'o')\n",
    "plt.title('blue: predicted, red: 95% CI')\n",
    "plt.ylabel('Chance of Admit')\n",
    "plt.show()\n",
    "\n",
    "print(lm.summary())"
   ]
  },
  {
   "cell_type": "code",
   "execution_count": 125,
   "metadata": {},
   "outputs": [
    {
     "name": "stdout",
     "output_type": "stream",
     "text": [
      "[0.66361767 0.80086292 0.78062135 0.83887964 0.81555304]\n",
      "mean: 77.99069235272839%\n",
      "standard deviation: 6.117398564674394%\n"
     ]
    }
   ],
   "source": [
    "regr = linear_model.LinearRegression()\n",
    "Y = data['Chance_of_admit']\n",
    "X = data[['GRE_score','TOEFL_score','LOR','CGPA','Research']]\n",
    "lr = regr.fit(X, Y)\n",
    "\n",
    "cross_validation = cross_val_score(lr, X, Y, cv=5)\n",
    "print(cross_validation)\n",
    "print('mean: {}%'.format(np.mean(cross_validation)*100))\n",
    "print('standard deviation: {}%'.format(np.std(cross_validation)*100))"
   ]
  },
  {
   "cell_type": "markdown",
   "metadata": {},
   "source": [
    "# K Nearest Neighbors Regression Model"
   ]
  },
  {
   "cell_type": "code",
   "execution_count": 294,
   "metadata": {},
   "outputs": [
    {
     "name": "stdout",
     "output_type": "stream",
     "text": [
      "0.7455212215955297\n",
      "mean: 66.79820767951917%\n",
      "standard deviation: 10.018285354760934%\n"
     ]
    }
   ],
   "source": [
    "from sklearn import neighbors\n",
    "\n",
    "# Build our model.\n",
    "knn = neighbors.KNeighborsRegressor(n_neighbors=17)\n",
    "print(knn.fit(X, Y).score(X, Y))\n",
    "\n",
    "\n",
    "cross_val = cross_val_score(knn, X, Y, cv=5)\n",
    "print('mean: {}%'.format(np.mean(cross_val)*100))\n",
    "print('standard deviation: {}%'.format(np.std(cross_val)*100))"
   ]
  },
  {
   "cell_type": "code",
   "execution_count": 295,
   "metadata": {},
   "outputs": [
    {
     "name": "stdout",
     "output_type": "stream",
     "text": [
      "1.0\n",
      "mean: 66.67940577887099%\n",
      "standard deviation: 10.005935705919365%\n"
     ]
    }
   ],
   "source": [
    "knn_w = neighbors.KNeighborsRegressor(n_neighbors=17, weights='distance')\n",
    "print(knn_w.fit(X, Y).score(X, Y))\n",
    "\n",
    "cross_val_w = cross_val_score(knn_w, X, Y, cv=5)\n",
    "print('mean: {}%'.format(np.mean(cross_val_w)*100))\n",
    "print('standard deviation: {}%'.format(np.std(cross_val_w)*100))"
   ]
  },
  {
   "cell_type": "code",
   "execution_count": 298,
   "metadata": {},
   "outputs": [
    {
     "name": "stdout",
     "output_type": "stream",
     "text": [
      "Unweighted Accuracy: 0.67 (+/- 0.20)\n",
      "Weighted Accuracy: 0.67 (+/- 0.20)\n"
     ]
    }
   ],
   "source": [
    "print(\"Unweighted Accuracy: %0.2f (+/- %0.2f)\" % (cross_val.mean(), cross_val.std()*2))\n",
    "print(\"Weighted Accuracy: %0.2f (+/- %0.2f)\" % (cross_val_w.mean(), cross_val_w.std()*2))"
   ]
  },
  {
   "cell_type": "markdown",
   "metadata": {},
   "source": [
    "We can see that in the KNN model, there is little to no difference between weighted with distance or not. "
   ]
  },
  {
   "cell_type": "code",
   "execution_count": 308,
   "metadata": {},
   "outputs": [
    {
     "data": {
      "image/png": "[encoded data removed]",
      "text/plain": [
       "<Figure size 432x288 with 1 Axes>"
      ]
     },
     "metadata": {},
     "output_type": "display_data"
    },
    {
     "name": "stdout",
     "output_type": "stream",
     "text": [
      "5 fold cross validation R^2 value of 67.02% +/- 20.32\n",
      "k value of 17\n"
     ]
    }
   ],
   "source": [
    "best_k_val = []\n",
    "best_k_val_std = []\n",
    "for i in range(70):\n",
    "    knn = neighbors.KNeighborsRegressor(n_neighbors=i+1)\n",
    "    cross_val = cross_val_score(knn, X, Y, cv=5)\n",
    "    mean = np.mean(cross_val)\n",
    "    std = cross_val.std()\n",
    "    best_k_val.append(mean)\n",
    "    best_k_val_std.append(std)\n",
    "\n",
    "values = np.array(best_k_val)\n",
    "values_std = np.array(best_k_val_std)\n",
    "plt.plot(values)\n",
    "plt.plot(np.where(values == values.max())[0], values.max(), 'o')\n",
    "plt.plot(values + values_std, '--', c='k')\n",
    "plt.plot(values - values_std, '--', c='k')\n",
    "plt.xlabel('k-neighbor value')\n",
    "plt.ylabel('R^2 score')\n",
    "plt.show()\n",
    "\n",
    "k_val = np.where(values==values.max())[0][0]\n",
    "\n",
    "print('5 fold cross validation R^2 value of {:.2f}% +/- {:.2f}'.format(values.max()*100, values_std[k_val]*2*100))\n",
    "print('k value of',np.where(values==values.max())[0][0])"
   ]
  },
  {
   "cell_type": "markdown",
   "metadata": {},
   "source": [
    "We can see that the linear regression model does much better than the knn model.\n",
    "\n",
    "The Linear Regression model has an accuracy of $78 \\pm 12\\%$ \n",
    "\n",
    "Whereas the KNN model has an accuracy of $67 \\pm 20\\%$"
   ]
  }
 ],
 "metadata": {
  "kernelspec": {
   "display_name": "Python 3",
   "language": "python",
   "name": "python3"
  },
  "language_info": {
   "codemirror_mode": {
    "name": "ipython",
    "version": 3
   },
   "file_extension": ".py",
   "mimetype": "text/x-python",
   "name": "python",
   "nbconvert_exporter": "python",
   "pygments_lexer": "ipython3",
   "version": "3.7.0"
  }
 },
 "nbformat": 4,
 "nbformat_minor": 2
}
