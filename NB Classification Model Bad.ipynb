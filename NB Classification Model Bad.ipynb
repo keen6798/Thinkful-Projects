{
 "cells": [
  {
   "cell_type": "code",
   "execution_count": 1,
   "metadata": {},
   "outputs": [],
   "source": [
    "import numpy as np\n",
    "import pandas as pd\n",
    "import matplotlib.pyplot as plt\n",
    "import seaborn as sns\n",
    "\n",
    "%matplotlib inline"
   ]
  },
  {
   "cell_type": "code",
   "execution_count": 2,
   "metadata": {},
   "outputs": [],
   "source": [
    "df = pd.read_csv('sentiment labelled sentences/yelp_labelled.txt', delimiter='\\t', header=None)\n",
    "\n",
    "df.columns = ['review', 'score']\n",
    "df['review'] = df['review'].str.lower()\n",
    "#score - bad is 0, good is 1\n",
    "\n",
    "#turning score column into boolean - where True is BAD.\n",
    "#Don't run this column more than once!!! otherwise everything False\n",
    "df['score'] = (df['score'] == 0)\n",
    "\n",
    "#chose these keywords based off of words that you might find most likely to be in a bad yelp review\n",
    "keywords = ['bad', 'nasty', 'horrible', 'terrible', \n",
    "            'not', 'never', 'long', 'no', \"didn't\", \n",
    "            \"wouldn't\",'slow', 'disgusted', 'worst', \n",
    "            'poor', 'mess', 'underwhelming']\n",
    "\n",
    "for key in keywords:\n",
    "    df[str(key)] = df.review.str.contains('' + str(key) + ' ', case=False)"
   ]
  },
  {
   "cell_type": "code",
   "execution_count": 3,
   "metadata": {},
   "outputs": [
    {
     "data": {
      "image/png": "[encoded data removed]",
      "text/plain": [
       "<Figure size 720x576 with 2 Axes>"
      ]
     },
     "metadata": {},
     "output_type": "display_data"
    }
   ],
   "source": [
    "#making sure that my features are relatively independent of eachother.\n",
    "plt.figure(figsize = (10,8))\n",
    "sns.heatmap(df.corr())\n",
    "\n",
    "plt.show()"
   ]
  },
  {
   "cell_type": "code",
   "execution_count": 4,
   "metadata": {},
   "outputs": [],
   "source": [
    "#training data\n",
    "data = df[keywords]\n",
    "target = df['score']"
   ]
  },
  {
   "cell_type": "code",
   "execution_count": 8,
   "metadata": {},
   "outputs": [
    {
     "name": "stdout",
     "output_type": "stream",
     "text": [
      "Number of mislabeled points out of a total 1000 points : 348\n",
      "34.8% mislabeled\n",
      "Number of correctly identified points out of a total 1000 points : 652\n",
      "Accuracy = 65.2%\n"
     ]
    },
    {
     "data": {
      "text/plain": [
       "array([[466,  34],\n",
       "       [314, 186]])"
      ]
     },
     "execution_count": 8,
     "metadata": {},
     "output_type": "execute_result"
    }
   ],
   "source": [
    "#since the data is binary, import Bernoulli class\n",
    "from sklearn.naive_bayes import BernoulliNB\n",
    "\n",
    "#instantiate our model and store it in a new variable\n",
    "bnb = BernoulliNB()\n",
    "\n",
    "#fit model to data\n",
    "bnb.fit(data, target)\n",
    "\n",
    "#classify, storing the result in a new variable\n",
    "y_pred = bnb.predict(data)\n",
    "\n",
    "#displaying results\n",
    "print('Number of mislabeled points out of a total {} points : {}'.format(data.shape[0], (target != y_pred).sum()))\n",
    "\n",
    "print('{}% mislabeled'.format((target != y_pred).sum()/data.shape[0]*100))\n",
    "\n",
    "# Calculate the accuracy of your model here.\n",
    "print('Number of correctly identified points out of a total {} points : {}'.format(\n",
    "    data.shape[0], \n",
    "    (target == y_pred).sum()\n",
    "))\n",
    "\n",
    "print('Accuracy = {:.4}%'.format((target == y_pred).sum()/data.shape[0]*100))\n",
    "\n",
    "from sklearn.metrics import confusion_matrix\n",
    "confusion_matrix(target, y_pred)"
   ]
  },
  {
   "cell_type": "markdown",
   "metadata": {},
   "source": [
    "314 is the not catching a bad review and lebeling it as a good review. "
   ]
  },
  {
   "cell_type": "markdown",
   "metadata": {},
   "source": [
    "# Testing the other data"
   ]
  },
  {
   "cell_type": "code",
   "execution_count": 10,
   "metadata": {},
   "outputs": [
    {
     "name": "stdout",
     "output_type": "stream",
     "text": [
      "Number of mislabeled points out of a total 748 points : 284\n",
      "37.967914438502675% mislabeled\n",
      "Number of correctly identified points out of a total 748 points : 464\n",
      "Accuracy = 62.03%\n"
     ]
    },
    {
     "data": {
      "text/plain": [
       "array([[347,  39],\n",
       "       [245, 117]])"
      ]
     },
     "execution_count": 10,
     "metadata": {},
     "output_type": "execute_result"
    }
   ],
   "source": [
    "df1 = pd.read_csv('sentiment labelled sentences/imdb_labelled.txt', delimiter='\\t', header=None)\n",
    "\n",
    "df1.columns = ['review', 'score']\n",
    "df1['review'] = df1['review'].str.lower()\n",
    "#score - bad is 0, good is 1\n",
    "\n",
    "#turning score column into boolean - where True is BAD.\n",
    "#Don't run this column more than once!!! otherwise everything False\n",
    "df1['score'] = (df1['score'] == 0)\n",
    "\n",
    "#chose these keywords based off of words that you might find most likely to be in a bad yelp review\n",
    "keywords1 = ['bad', 'nasty', 'horrible', 'terrible', \n",
    "            'not', 'never', 'long', 'no', \"didn't\", \n",
    "            \"wouldn't\",'slow', 'disgusted', 'worst', \n",
    "            'poor', 'mess', 'underwhelming']\n",
    "\n",
    "for key in keywords1:\n",
    "    df1[str(key)] = df1.review.str.contains('' + str(key) + ' ', case=False)\n",
    "\n",
    "data1 = df1[keywords]   \n",
    "target1 = df1['score']  \n",
    "    \n",
    "#classify, storing the result in a new variable\n",
    "y_pred1 = bnb.predict(data1)\n",
    "\n",
    "#displaying results\n",
    "print('Number of mislabeled points out of a total {} points : {}'.format(data1.shape[0], (target1 != y_pred1).sum()))\n",
    "\n",
    "print('{}% mislabeled'.format((target1 != y_pred1).sum()/data1.shape[0]*100))\n",
    "\n",
    "# Calculate the accuracy of your model here.\n",
    "print('Number of correctly identified points out of a total {} points : {}'.format(\n",
    "    data1.shape[0], \n",
    "    (target1 == y_pred1).sum()\n",
    "))\n",
    "\n",
    "print('Accuracy = {:.4}%'.format((target1 == y_pred1).sum()/data1.shape[0]*100))\n",
    "\n",
    "from sklearn.metrics import confusion_matrix\n",
    "confusion_matrix(target1, y_pred1)"
   ]
  },
  {
   "cell_type": "code",
   "execution_count": 12,
   "metadata": {},
   "outputs": [
    {
     "name": "stdout",
     "output_type": "stream",
     "text": [
      "Number of mislabeled points out of a total 748 points : 365\n",
      "36.5% mislabeled\n",
      "Number of correctly identified points out of a total 1000 points : 635\n",
      "Accuracy = 63.5%\n"
     ]
    },
    {
     "data": {
      "text/plain": [
       "array([[466,  34],\n",
       "       [331, 169]])"
      ]
     },
     "execution_count": 12,
     "metadata": {},
     "output_type": "execute_result"
    }
   ],
   "source": [
    "df2 = pd.read_csv('sentiment labelled sentences/amazon_cells_labelled.txt', delimiter='\\t', header=None)\n",
    "\n",
    "df2.columns = ['review', 'score']\n",
    "df2['review'] = df2['review'].str.lower()\n",
    "#score - bad is 0, good is 1\n",
    "\n",
    "#turning score column into boolean - where True is BAD.\n",
    "#Don't run this column more than once!!! otherwise everything False\n",
    "df2['score'] = (df2['score'] == 0)\n",
    "\n",
    "#chose these keywords based off of words that you might find most likely to be in a bad yelp review\n",
    "keywords2 = ['bad', 'nasty', 'horrible', 'terrible', \n",
    "            'not', 'never', 'long', 'no', \"didn't\", \n",
    "            \"wouldn't\",'slow', 'disgusted', 'worst', \n",
    "            'poor', 'mess', 'underwhelming']\n",
    "\n",
    "for key in keywords2:\n",
    "    df2[str(key)] = df2.review.str.contains('' + str(key) + ' ', case=False)\n",
    "\n",
    "data2 = df2[keywords]   \n",
    "target2 = df2['score']  \n",
    "    \n",
    "#classify, storing the result in a new variable\n",
    "y_pred2 = bnb.predict(data2)\n",
    "\n",
    "#displaying results\n",
    "print('Number of mislabeled points out of a total {} points : {}'.format(data1.shape[0], (target2 != y_pred2).sum()))\n",
    "\n",
    "print('{}% mislabeled'.format((target2 != y_pred2).sum()/data2.shape[0]*100))\n",
    "\n",
    "# Calculate the accuracy of your model here.\n",
    "print('Number of correctly identified points out of a total {} points : {}'.format(\n",
    "    data2.shape[0], \n",
    "    (target2 == y_pred2).sum()\n",
    "))\n",
    "\n",
    "print('Accuracy = {:.4}%'.format((target2 == y_pred2).sum()/data2.shape[0]*100))\n",
    "\n",
    "from sklearn.metrics import confusion_matrix\n",
    "confusion_matrix(target2, y_pred2)"
   ]
  },
  {
   "cell_type": "code",
   "execution_count": null,
   "metadata": {},
   "outputs": [],
   "source": []
  }
 ],
 "metadata": {
  "kernelspec": {
   "display_name": "Python 3",
   "language": "python",
   "name": "python3"
  },
  "language_info": {
   "codemirror_mode": {
    "name": "ipython",
    "version": 3
   },
   "file_extension": ".py",
   "mimetype": "text/x-python",
   "name": "python",
   "nbconvert_exporter": "python",
   "pygments_lexer": "ipython3",
   "version": "3.7.0"
  }
 },
 "nbformat": 4,
 "nbformat_minor": 2
}
