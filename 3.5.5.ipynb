{
 "cells": [
  {
   "cell_type": "markdown",
   "metadata": {},
   "source": [
    "1. Predict the running times of prospective Olympic sprinters using data from the last 20 Olympics.\n",
    "    a. Linear Regression\n",
    "2. You have more features (columns) than rows in your dataset.\n",
    "    a. Lasso Regression\n",
    "3. Identify the most important characteristic predicting likelihood of being jailed before age 20.\n",
    "    a. Logistic Regression\n",
    "4. Implement a filter to “highlight” emails that might be important to the recipient\n",
    "    a. Naive Bayes\n",
    "5. You have 1000+ features.\n",
    "    a. Support Vector Machines\n",
    "6. Predict whether someone who adds items to their cart on a website will purchase the items.\n",
    "    a. Random Forest\n",
    "7. Your dataset dimensions are 982400 x 500\n",
    "     a. Decision tree (it's fast)\n",
    "8. Identify faces in an image.\n",
    "    a. KNN or SVM\n",
    "9. Predict which of three flavors of ice cream will be most popular with boys vs girls.\n",
    "    a. SVC"
   ]
  },
  {
   "cell_type": "code",
   "execution_count": null,
   "metadata": {},
   "outputs": [],
   "source": []
  }
 ],
 "metadata": {
  "kernelspec": {
   "display_name": "Python 3",
   "language": "python",
   "name": "python3"
  },
  "language_info": {
   "codemirror_mode": {
    "name": "ipython",
    "version": 3
   },
   "file_extension": ".py",
   "mimetype": "text/x-python",
   "name": "python",
   "nbconvert_exporter": "python",
   "pygments_lexer": "ipython3",
   "version": "3.7.0"
  }
 },
 "nbformat": 4,
 "nbformat_minor": 2
}
