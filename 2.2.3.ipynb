{
 "cells": [
  {
   "cell_type": "markdown",
   "metadata": {},
   "source": [
    "The amount a person will spend on a given site in the next 24 months.\n",
    "- regression\n",
    "What color car someone is going to buy.\n",
    "- classification\n",
    "How many children a family will have.\n",
    "- classification\n",
    "If someone will sign up for a service.\n",
    "- classification\n",
    "The number of times someone will get sick in a year.\n",
    "- classification \n",
    "The probability someone will get sick in the next month.\n",
    "- classification using regression tool\n",
    "Which medicine will work best for a given patient.\n",
    "- regression if continuous scoring unless scoring goes for work/not work"
   ]
  }
 ],
 "metadata": {
  "kernelspec": {
   "display_name": "Python 3",
   "language": "python",
   "name": "python3"
  },
  "language_info": {
   "codemirror_mode": {
    "name": "ipython",
    "version": 3
   },
   "file_extension": ".py",
   "mimetype": "text/x-python",
   "name": "python",
   "nbconvert_exporter": "python",
   "pygments_lexer": "ipython3",
   "version": "3.7.0"
  }
 },
 "nbformat": 4,
 "nbformat_minor": 2
}
