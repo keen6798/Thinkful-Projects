{
 "cells": [
  {
   "cell_type": "markdown",
   "metadata": {},
   "source": [
    "I have prepared this data to model with multivariable regression according to this specification:\n",
    "\n",
    "$$ Property crime = \\alpha + log(Population) + fraction(larceny) + fraction(Murder) + fraction(car theft)$$"
   ]
  },
  {
   "cell_type": "code",
   "execution_count": 1,
   "metadata": {},
   "outputs": [],
   "source": [
    "import pandas as pd\n",
    "from matplotlib import pyplot as plt\n",
    "import numpy as np\n",
    "import seaborn as sns\n",
    "\n",
    "from sklearn import linear_model\n",
    "from sklearn.model_selection import cross_val_score\n",
    "\n",
    "import statsmodels.formula.api as smf\n",
    "from statsmodels.sandbox.regression.predstd import wls_prediction_std\n",
    "\n",
    "%matplotlib inline"
   ]
  },
  {
   "cell_type": "code",
   "execution_count": 2,
   "metadata": {},
   "outputs": [],
   "source": [
    "df = pd.read_excel('table_8_offenses_known_to_law_enforcement_new_york_by_city_2013.xls', header=4)\n",
    "drop_df = df.drop('Rape\\n(revised\\ndefinition)1',axis=1) #removing column because only NaN values\n",
    "crime_df = drop_df[:-3] #Last three rows are not data"
   ]
  },
  {
   "cell_type": "code",
   "execution_count": 3,
   "metadata": {},
   "outputs": [
    {
     "data": {
      "text/html": [
       "<div>\n",
       "<style scoped>\n",
       "    .dataframe tbody tr th:only-of-type {\n",
       "        vertical-align: middle;\n",
       "    }\n",
       "\n",
       "    .dataframe tbody tr th {\n",
       "        vertical-align: top;\n",
       "    }\n",
       "\n",
       "    .dataframe thead th {\n",
       "        text-align: right;\n",
       "    }\n",
       "</style>\n",
       "<table border=\"1\" class=\"dataframe\">\n",
       "  <thead>\n",
       "    <tr style=\"text-align: right;\">\n",
       "      <th></th>\n",
       "      <th>log_population</th>\n",
       "      <th>frac_assault</th>\n",
       "      <th>frac_robbery</th>\n",
       "      <th>log_property_crime</th>\n",
       "    </tr>\n",
       "  </thead>\n",
       "  <tbody>\n",
       "    <tr>\n",
       "      <th>0</th>\n",
       "      <td>7.528869</td>\n",
       "      <td>0.000000</td>\n",
       "      <td>0.000000</td>\n",
       "      <td>2.484907</td>\n",
       "    </tr>\n",
       "    <tr>\n",
       "      <th>1</th>\n",
       "      <td>7.854381</td>\n",
       "      <td>11.641444</td>\n",
       "      <td>0.000000</td>\n",
       "      <td>3.178054</td>\n",
       "    </tr>\n",
       "    <tr>\n",
       "      <th>2</th>\n",
       "      <td>7.953670</td>\n",
       "      <td>10.541110</td>\n",
       "      <td>0.000000</td>\n",
       "      <td>2.772589</td>\n",
       "    </tr>\n",
       "    <tr>\n",
       "      <th>4</th>\n",
       "      <td>8.762177</td>\n",
       "      <td>25.046963</td>\n",
       "      <td>6.261741</td>\n",
       "      <td>5.407172</td>\n",
       "    </tr>\n",
       "    <tr>\n",
       "      <th>5</th>\n",
       "      <td>8.316056</td>\n",
       "      <td>4.891171</td>\n",
       "      <td>7.336757</td>\n",
       "      <td>3.828641</td>\n",
       "    </tr>\n",
       "  </tbody>\n",
       "</table>\n",
       "</div>"
      ],
      "text/plain": [
       "   log_population  frac_assault  frac_robbery  log_property_crime\n",
       "0        7.528869      0.000000      0.000000            2.484907\n",
       "1        7.854381     11.641444      0.000000            3.178054\n",
       "2        7.953670     10.541110      0.000000            2.772589\n",
       "4        8.762177     25.046963      6.261741            5.407172\n",
       "5        8.316056      4.891171      7.336757            3.828641"
      ]
     },
     "execution_count": 3,
     "metadata": {},
     "output_type": "execute_result"
    }
   ],
   "source": [
    "property_crime = pd.DataFrame()\n",
    "n = 10000 #per 1000 people\n",
    "\n",
    "#features\n",
    "property_crime['log_population'] = np.log(crime_df['Population'])\n",
    "property_crime['frac_assault'] = (crime_df['Aggravated\\nassault']/crime_df['Population'])*n\n",
    "property_crime['frac_robbery'] = (crime_df['Robbery']/crime_df['Population'])*n\n",
    "\n",
    "#dependent variable\n",
    "property_crime['log_property_crime'] = crime_df['Property\\ncrime']\n",
    "\n",
    "drop_index = np.concatenate((np.where(property_crime['log_population'] == property_crime['log_population'].max())[0], \n",
    "                            np.where(property_crime['log_property_crime'] == 0)[0],\n",
    "                            property_crime['frac_assault'].nlargest(21).index,\n",
    "                            property_crime['frac_robbery'].nlargest(20).index))\n",
    "property_crime = property_crime.drop(drop_index, axis=0)\n",
    "\n",
    "property_crime['log_property_crime'] = np.log(property_crime['log_property_crime'])\n",
    "\n",
    "drop_index_new = np.concatenate((property_crime['log_property_crime'].nlargest(2).index, \n",
    "                                 property_crime['log_property_crime'].nsmallest(1).index))\n",
    "property_crime = property_crime.drop(drop_index_new, axis=0)\n",
    "\n",
    "property_crime.head()"
   ]
  },
  {
   "cell_type": "markdown",
   "metadata": {},
   "source": [
    "Here I chose to take the log values of the property crime and the population to normalize the distributions. Then I took the features for larceny, robbery, and murder and divided each one by the population so that the features is in fraction of the feature per population."
   ]
  },
  {
   "cell_type": "code",
   "execution_count": 4,
   "metadata": {},
   "outputs": [
    {
     "name": "stdout",
     "output_type": "stream",
     "text": [
      "paramaters:\n",
      "Intercept        -4.990265\n",
      "log_population    1.032219\n",
      "frac_assault      0.032246\n",
      "frac_robbery      0.085978\n",
      "dtype: float64 \n",
      "\n",
      "p-values:\n",
      "Intercept         6.441840e-40\n",
      "log_population    5.243833e-86\n",
      "frac_assault      1.177158e-08\n",
      "frac_robbery      3.177258e-08\n",
      "dtype: float64 \n",
      "\n",
      "R^2:\n",
      "0.7960588271484446 \n",
      "\n",
      "convidence intervals:\n",
      "                       0         1      wide\n",
      "Intercept      -5.629642 -4.350889  1.278753\n",
      "log_population  0.959194  1.105244  0.146049\n",
      "frac_assault    0.021422  0.043070  0.021649\n",
      "frac_robbery    0.056174  0.115782  0.059607\n"
     ]
    },
    {
     "data": {
      "image/png": "[encoded data removed]",
      "text/plain": [
       "<Figure size 720x576 with 1 Axes>"
      ]
     },
     "metadata": {},
     "output_type": "display_data"
    }
   ],
   "source": [
    "# dependent variable on the right, independent variables on the left\n",
    "# Use a ~ to represent an '=' from the functional form\n",
    "linear_formula = 'log_property_crime ~ log_population+frac_assault+frac_robbery'\n",
    "\n",
    "# Fit the model to our data using the formula.\n",
    "lm = smf.ols(formula=linear_formula, data=property_crime).fit()\n",
    "\n",
    "print('paramaters:')\n",
    "print(lm.params, '\\n')\n",
    "print('p-values:')\n",
    "print(lm.pvalues, '\\n')\n",
    "print('R^2:')\n",
    "print(lm.rsquared, '\\n')\n",
    "\n",
    "      \n",
    "conf_int = lm.conf_int()\n",
    "conf_int['wide'] = abs(conf_int[1] - conf_int[0])\n",
    "print('convidence intervals:')\n",
    "print(conf_int)\n",
    "      \n",
    "# Use wls_prediction_std to build confidence intervals\n",
    "\n",
    "prstd, iv_l, iv_u = wls_prediction_std(lm)\n",
    "\n",
    "plt.figure(figsize=(10,8))\n",
    "plt.plot(iv_u[0:15], '--', color='r', label='confidence interval')\n",
    "plt.plot(iv_l[0:15], '--', color='r')\n",
    "plt.plot(lm.fittedvalues[0:15], color='b', label='fitted values')\n",
    "plt.plot(property_crime['log_property_crime'][0:15], 'o', label='actual values')\n",
    "plt.title('blue: predicted, red: 95% CI')\n",
    "plt.ylabel('Property Crime')\n",
    "plt.legend(loc='best')\n",
    "plt.show()"
   ]
  },
  {
   "cell_type": "markdown",
   "metadata": {},
   "source": [
    "Here, our model where the outcome Property Crime is predicted by the features population, larceny, robbery, and murder (percent of population) explains $79.6%$ of the variance in property crime. \n",
    "\n",
    "The intercept is negative and the highest increase in property crime comes from population (1.03)). \n",
    "\n",
    "population has the widest confidence interval."
   ]
  },
  {
   "cell_type": "code",
   "execution_count": 5,
   "metadata": {},
   "outputs": [],
   "source": [
    "pred = lm.predict(property_crime)"
   ]
  },
  {
   "cell_type": "code",
   "execution_count": 6,
   "metadata": {},
   "outputs": [
    {
     "name": "stdout",
     "output_type": "stream",
     "text": [
      "0.646889752532963\n"
     ]
    }
   ],
   "source": [
    "root_mean_square_error = np.sqrt(np.mean((property_crime['log_property_crime'] - pred )**2))\n",
    "print(root_mean_square_error)"
   ]
  },
  {
   "cell_type": "code",
   "execution_count": 7,
   "metadata": {},
   "outputs": [
    {
     "data": {
      "text/html": [
       "<table class=\"simpletable\">\n",
       "<caption>OLS Regression Results</caption>\n",
       "<tr>\n",
       "  <th>Dep. Variable:</th>    <td>log_property_crime</td> <th>  R-squared:         </th> <td>   0.796</td> \n",
       "</tr>\n",
       "<tr>\n",
       "  <th>Model:</th>                    <td>OLS</td>        <th>  Adj. R-squared:    </th> <td>   0.794</td> \n",
       "</tr>\n",
       "<tr>\n",
       "  <th>Method:</th>              <td>Least Squares</td>   <th>  F-statistic:       </th> <td>   400.7</td> \n",
       "</tr>\n",
       "<tr>\n",
       "  <th>Date:</th>              <td>Fri, 08 Feb 2019</td>  <th>  Prob (F-statistic):</th> <td>5.78e-106</td>\n",
       "</tr>\n",
       "<tr>\n",
       "  <th>Time:</th>                  <td>12:54:04</td>      <th>  Log-Likelihood:    </th> <td> -306.81</td> \n",
       "</tr>\n",
       "<tr>\n",
       "  <th>No. Observations:</th>       <td>   312</td>       <th>  AIC:               </th> <td>   621.6</td> \n",
       "</tr>\n",
       "<tr>\n",
       "  <th>Df Residuals:</th>           <td>   308</td>       <th>  BIC:               </th> <td>   636.6</td> \n",
       "</tr>\n",
       "<tr>\n",
       "  <th>Df Model:</th>               <td>     3</td>       <th>                     </th>     <td> </td>    \n",
       "</tr>\n",
       "<tr>\n",
       "  <th>Covariance Type:</th>       <td>nonrobust</td>     <th>                     </th>     <td> </td>    \n",
       "</tr>\n",
       "</table>\n",
       "<table class=\"simpletable\">\n",
       "<tr>\n",
       "         <td></td>           <th>coef</th>     <th>std err</th>      <th>t</th>      <th>P>|t|</th>  <th>[0.025</th>    <th>0.975]</th>  \n",
       "</tr>\n",
       "<tr>\n",
       "  <th>Intercept</th>      <td>   -4.9903</td> <td>    0.325</td> <td>  -15.358</td> <td> 0.000</td> <td>   -5.630</td> <td>   -4.351</td>\n",
       "</tr>\n",
       "<tr>\n",
       "  <th>log_population</th> <td>    1.0322</td> <td>    0.037</td> <td>   27.814</td> <td> 0.000</td> <td>    0.959</td> <td>    1.105</td>\n",
       "</tr>\n",
       "<tr>\n",
       "  <th>frac_assault</th>   <td>    0.0322</td> <td>    0.006</td> <td>    5.862</td> <td> 0.000</td> <td>    0.021</td> <td>    0.043</td>\n",
       "</tr>\n",
       "<tr>\n",
       "  <th>frac_robbery</th>   <td>    0.0860</td> <td>    0.015</td> <td>    5.676</td> <td> 0.000</td> <td>    0.056</td> <td>    0.116</td>\n",
       "</tr>\n",
       "</table>\n",
       "<table class=\"simpletable\">\n",
       "<tr>\n",
       "  <th>Omnibus:</th>       <td>24.391</td> <th>  Durbin-Watson:     </th> <td>   1.967</td>\n",
       "</tr>\n",
       "<tr>\n",
       "  <th>Prob(Omnibus):</th> <td> 0.000</td> <th>  Jarque-Bera (JB):  </th> <td>  38.604</td>\n",
       "</tr>\n",
       "<tr>\n",
       "  <th>Skew:</th>          <td>-0.508</td> <th>  Prob(JB):          </th> <td>4.14e-09</td>\n",
       "</tr>\n",
       "<tr>\n",
       "  <th>Kurtosis:</th>      <td> 4.392</td> <th>  Cond. No.          </th> <td>    117.</td>\n",
       "</tr>\n",
       "</table><br/><br/>Warnings:<br/>[1] Standard Errors assume that the covariance matrix of the errors is correctly specified."
      ],
      "text/plain": [
       "<class 'statsmodels.iolib.summary.Summary'>\n",
       "\"\"\"\n",
       "                            OLS Regression Results                            \n",
       "==============================================================================\n",
       "Dep. Variable:     log_property_crime   R-squared:                       0.796\n",
       "Model:                            OLS   Adj. R-squared:                  0.794\n",
       "Method:                 Least Squares   F-statistic:                     400.7\n",
       "Date:                Fri, 08 Feb 2019   Prob (F-statistic):          5.78e-106\n",
       "Time:                        12:54:04   Log-Likelihood:                -306.81\n",
       "No. Observations:                 312   AIC:                             621.6\n",
       "Df Residuals:                     308   BIC:                             636.6\n",
       "Df Model:                           3                                         \n",
       "Covariance Type:            nonrobust                                         \n",
       "==================================================================================\n",
       "                     coef    std err          t      P>|t|      [0.025      0.975]\n",
       "----------------------------------------------------------------------------------\n",
       "Intercept         -4.9903      0.325    -15.358      0.000      -5.630      -4.351\n",
       "log_population     1.0322      0.037     27.814      0.000       0.959       1.105\n",
       "frac_assault       0.0322      0.006      5.862      0.000       0.021       0.043\n",
       "frac_robbery       0.0860      0.015      5.676      0.000       0.056       0.116\n",
       "==============================================================================\n",
       "Omnibus:                       24.391   Durbin-Watson:                   1.967\n",
       "Prob(Omnibus):                  0.000   Jarque-Bera (JB):               38.604\n",
       "Skew:                          -0.508   Prob(JB):                     4.14e-09\n",
       "Kurtosis:                       4.392   Cond. No.                         117.\n",
       "==============================================================================\n",
       "\n",
       "Warnings:\n",
       "[1] Standard Errors assume that the covariance matrix of the errors is correctly specified.\n",
       "\"\"\""
      ]
     },
     "execution_count": 7,
     "metadata": {},
     "output_type": "execute_result"
    }
   ],
   "source": [
    "lm.summary()"
   ]
  },
  {
   "cell_type": "code",
   "execution_count": 40,
   "metadata": {},
   "outputs": [
    {
     "name": "stdout",
     "output_type": "stream",
     "text": [
      "[0.81317953 0.76724782 0.74815675]\n",
      "mean: 77.61946991388888%\n",
      "standard deviation: 2.728889433547511%\n"
     ]
    }
   ],
   "source": [
    "# Instantiate and fit our model.\n",
    "regr = linear_model.LinearRegression()\n",
    "Y = property_crime['log_property_crime'].values.reshape(-1, 1)\n",
    "X = property_crime[['log_population','frac_assault','frac_robbery']]\n",
    "lr = regr.fit(X, Y)\n",
    "\n",
    "cross_validation = cross_val_score(lr, X, Y, cv=3)\n",
    "\n",
    "print(cross_validation)\n",
    "print('mean: {}%'.format(np.mean(cross_validation)*100))\n",
    "print('standard deviation: {}%'.format(np.std(cross_validation)*100))"
   ]
  },
  {
   "cell_type": "markdown",
   "metadata": {},
   "source": [
    "Cross validation looks good! - chose 3 since there are only about 300 points in the data set."
   ]
  },
  {
   "cell_type": "markdown",
   "metadata": {},
   "source": [
    "# Try on different data"
   ]
  },
  {
   "cell_type": "code",
   "execution_count": 41,
   "metadata": {},
   "outputs": [],
   "source": [
    "df_test = pd.read_excel('Table_8_Offenses_Known_to_Law_Enforcement_by_New_York_by_City_2014.xls', header=4)\n",
    "drop_df_test = df_test.drop('Rape\\n(revised\\ndefinition)1',axis=1) #removing column because only NaN values\n",
    "crime_df_test = drop_df_test[:-3] #Last three rows are not data"
   ]
  },
  {
   "cell_type": "code",
   "execution_count": 42,
   "metadata": {},
   "outputs": [
    {
     "data": {
      "text/html": [
       "<div>\n",
       "<style scoped>\n",
       "    .dataframe tbody tr th:only-of-type {\n",
       "        vertical-align: middle;\n",
       "    }\n",
       "\n",
       "    .dataframe tbody tr th {\n",
       "        vertical-align: top;\n",
       "    }\n",
       "\n",
       "    .dataframe thead th {\n",
       "        text-align: right;\n",
       "    }\n",
       "</style>\n",
       "<table border=\"1\" class=\"dataframe\">\n",
       "  <thead>\n",
       "    <tr style=\"text-align: right;\">\n",
       "      <th></th>\n",
       "      <th>log_population</th>\n",
       "      <th>frac_assault</th>\n",
       "      <th>frac_robbery</th>\n",
       "      <th>log_test</th>\n",
       "    </tr>\n",
       "  </thead>\n",
       "  <tbody>\n",
       "    <tr>\n",
       "      <th>0</th>\n",
       "      <td>7.528869</td>\n",
       "      <td>0.000000</td>\n",
       "      <td>0.000000</td>\n",
       "      <td>2.397895</td>\n",
       "    </tr>\n",
       "    <tr>\n",
       "      <th>1</th>\n",
       "      <td>7.854381</td>\n",
       "      <td>11.641444</td>\n",
       "      <td>0.000000</td>\n",
       "      <td>3.891820</td>\n",
       "    </tr>\n",
       "    <tr>\n",
       "      <th>4</th>\n",
       "      <td>8.762177</td>\n",
       "      <td>25.046963</td>\n",
       "      <td>6.261741</td>\n",
       "      <td>8.265650</td>\n",
       "    </tr>\n",
       "    <tr>\n",
       "      <th>5</th>\n",
       "      <td>8.316056</td>\n",
       "      <td>4.891171</td>\n",
       "      <td>7.336757</td>\n",
       "      <td>5.318120</td>\n",
       "    </tr>\n",
       "    <tr>\n",
       "      <th>6</th>\n",
       "      <td>7.484930</td>\n",
       "      <td>16.844469</td>\n",
       "      <td>0.000000</td>\n",
       "      <td>1.945910</td>\n",
       "    </tr>\n",
       "  </tbody>\n",
       "</table>\n",
       "</div>"
      ],
      "text/plain": [
       "   log_population  frac_assault  frac_robbery  log_test\n",
       "0        7.528869      0.000000      0.000000  2.397895\n",
       "1        7.854381     11.641444      0.000000  3.891820\n",
       "4        8.762177     25.046963      6.261741  8.265650\n",
       "5        8.316056      4.891171      7.336757  5.318120\n",
       "6        7.484930     16.844469      0.000000  1.945910"
      ]
     },
     "execution_count": 42,
     "metadata": {},
     "output_type": "execute_result"
    }
   ],
   "source": [
    "test = pd.DataFrame()\n",
    "n = 10000 #per 1000 people\n",
    "\n",
    "#features - NY\n",
    "test['log_population'] = np.log(crime_df['Population'])\n",
    "test['frac_assault'] = (crime_df['Aggravated\\nassault']/crime_df['Population'])*n\n",
    "test['frac_robbery'] = (crime_df['Robbery']/crime_df['Population'])*n\n",
    "\n",
    "#dependent variable - colorado \n",
    "test['log_test'] = crime_df_test['Property\\ncrime']\n",
    "\n",
    "drop_index = np.concatenate((np.where(test['log_population'] == test['log_population'].max())[0], \n",
    "                            np.where(test['log_test'] == 0)[0],\n",
    "                            test['frac_assault'].nlargest(21).index,\n",
    "                            test['frac_robbery'].nlargest(20).index))\n",
    "test = test.drop(drop_index, axis=0)\n",
    "\n",
    "test['log_test'] = np.log(test['log_test'])\n",
    "\n",
    "drop_index_new = np.concatenate((test['log_test'].nlargest(2).index, \n",
    "                                 test['log_test'].nsmallest(1).index))\n",
    "test = test.drop(drop_index_new, axis=0)\n",
    "\n",
    "test.head()"
   ]
  },
  {
   "cell_type": "code",
   "execution_count": 43,
   "metadata": {},
   "outputs": [],
   "source": [
    "X1 = test[['log_population', 'frac_assault', 'frac_robbery']]\n",
    "Y1 = test['log_test']\n",
    "predict = lr.predict(test[['log_population', 'frac_assault', 'frac_robbery']])\n",
    "predict = np.concatenate(predict)"
   ]
  },
  {
   "cell_type": "code",
   "execution_count": 45,
   "metadata": {},
   "outputs": [
    {
     "name": "stdout",
     "output_type": "stream",
     "text": [
      "R^2 with diff data: -0.5478908235196802\n"
     ]
    }
   ],
   "source": [
    "score = lr.score(X1,Y1)\n",
    "print('R^2 with diff data:', score)"
   ]
  },
  {
   "cell_type": "code",
   "execution_count": 25,
   "metadata": {},
   "outputs": [
    {
     "name": "stdout",
     "output_type": "stream",
     "text": [
      "RMS =  2.1547188930772276\n"
     ]
    },
    {
     "name": "stderr",
     "output_type": "stream",
     "text": [
      "/usr/local/lib/python3.7/site-packages/numpy/lib/histograms.py:746: RuntimeWarning: invalid value encountered in greater_equal\n",
      "  keep = (tmp_a >= first_edge)\n",
      "/usr/local/lib/python3.7/site-packages/numpy/lib/histograms.py:747: RuntimeWarning: invalid value encountered in less_equal\n",
      "  keep &= (tmp_a <= last_edge)\n"
     ]
    },
    {
     "data": {
      "image/png": "[encoded data removed]",
      "text/plain": [
       "<Figure size 432x288 with 1 Axes>"
      ]
     },
     "metadata": {},
     "output_type": "display_data"
    }
   ],
   "source": [
    "root_mean_square_error = np.sqrt(np.mean((test['log_test'] - predict)**2))\n",
    "print('RMS = ', root_mean_square_error)\n",
    "\n",
    "residual_other = test['log_test'] - pred \n",
    "plt.hist(residual_other)\n",
    "plt.title('Residual counts')\n",
    "plt.xlabel('Residual')\n",
    "plt.ylabel('Count')\n",
    "plt.show()"
   ]
  },
  {
   "cell_type": "code",
   "execution_count": 50,
   "metadata": {},
   "outputs": [
    {
     "data": {
      "image/png": "[encoded data removed]",
      "text/plain": [
       "<Figure size 432x288 with 1 Axes>"
      ]
     },
     "metadata": {},
     "output_type": "display_data"
    }
   ],
   "source": [
    "plt.scatter(pred, test['log_test'])\n",
    "x = np.linspace(0,10,100)\n",
    "plt.plot(x, x, '-', c='orange')\n",
    "plt.plot(x, x+2.55, '--', c='k')\n",
    "plt.plot(x, x-2.55, '--', c='k')\n",
    "plt.xlim(0,9)\n",
    "plt.ylim(-1,10)\n",
    "plt.show()"
   ]
  },
  {
   "cell_type": "code",
   "execution_count": 51,
   "metadata": {},
   "outputs": [
    {
     "data": {
      "image/png": "[encoded data removed]",
      "text/plain": [
       "<Figure size 432x288 with 1 Axes>"
      ]
     },
     "metadata": {},
     "output_type": "display_data"
    }
   ],
   "source": [
    "plt.hist(pred)\n",
    "plt.hist(test['log_test'], alpha=0.5);"
   ]
  },
  {
   "cell_type": "markdown",
   "metadata": {},
   "source": [
    "This model is not very good at predicting other data sets."
   ]
  },
  {
   "cell_type": "code",
   "execution_count": null,
   "metadata": {},
   "outputs": [],
   "source": []
  }
 ],
 "metadata": {
  "kernelspec": {
   "display_name": "Python 3",
   "language": "python",
   "name": "python3"
  },
  "language_info": {
   "codemirror_mode": {
    "name": "ipython",
    "version": 3
   },
   "file_extension": ".py",
   "mimetype": "text/x-python",
   "name": "python",
   "nbconvert_exporter": "python",
   "pygments_lexer": "ipython3",
   "version": "3.7.0"
  }
 },
 "nbformat": 4,
 "nbformat_minor": 2
}
