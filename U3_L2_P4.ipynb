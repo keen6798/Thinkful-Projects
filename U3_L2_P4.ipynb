{
 "cells": [
  {
   "cell_type": "markdown",
   "metadata": {},
   "source": [
    "# 1.\n",
    "Flipping a balanced coin, the outcomes are independent of previous flips. The probability of flipping heads or tails is $P(H) = \\dfrac{1}{2}$ and $P(T) = \\dfrac{1}{2}$. So any of the orders $HTTH$, $HHHH$, or $TTHH$ would have the same probability:\n",
    "$\\dfrac{1}{2} \\times \\dfrac{1}{2} \\times \\dfrac{1}{2} \\times \\dfrac{1}{2} = \\dfrac{1}{16}$."
   ]
  },
  {
   "cell_type": "markdown",
   "metadata": {},
   "source": [
    "# 2.\n",
    "\n",
    "The probably of not choosing a man would be the same as the probability of choosing a woman, since the only other option in the list is a woman, so not choosing a man means choosing a woman.\n",
    "\n",
    "$P(W) = \\dfrac{\\text{number of women}}{\\text{total numer in list}} = \\dfrac{24}{45}$\n",
    "\n",
    "or\n",
    "\n",
    "$1 - P(M) = P(W) = 1 - \\dfrac{21}{45}=\\dfrac{24}{45}$\n"
   ]
  },
  {
   "cell_type": "markdown",
   "metadata": {},
   "source": [
    "# 3.\n",
    "\n",
    "$P(\\text{Bernice travels by plane in next year}) = 10\\% = 0.1$\n",
    "\n",
    "$P(\\text{Plane Crash}) = 0.005\\% = 0.00005$\n",
    "\n",
    "$P(\\text{Bernice in plane crash in next year}) = P(\\text{Plane Crash})\\times P(\\text{Bernice travels by plane in next year}) = 0.000005 = 0.0005\\%$"
   ]
  },
  {
   "cell_type": "markdown",
   "metadata": {},
   "source": [
    "# 4.\n",
    "\n",
    "The flaw in this thinking is that the longer the user spends on the site, the more times that user will click on a link. This gives more opportunity for someone to get picked for the survay the longer they spend on the site. There would then be a bias in the data for surveyers spending more time on the site.  "
   ]
  },
  {
   "cell_type": "code",
   "execution_count": null,
   "metadata": {},
   "outputs": [],
   "source": []
  }
 ],
 "metadata": {
  "kernelspec": {
   "display_name": "Python 3",
   "language": "python",
   "name": "python3"
  },
  "language_info": {
   "codemirror_mode": {
    "name": "ipython",
    "version": 3
   },
   "file_extension": ".py",
   "mimetype": "text/x-python",
   "name": "python",
   "nbconvert_exporter": "python",
   "pygments_lexer": "ipython3",
   "version": "3.7.0"
  }
 },
 "nbformat": 4,
 "nbformat_minor": 2
}
