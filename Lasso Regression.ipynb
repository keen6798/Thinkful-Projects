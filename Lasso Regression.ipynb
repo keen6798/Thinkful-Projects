{
 "cells": [
  {
   "cell_type": "code",
   "execution_count": 1,
   "metadata": {},
   "outputs": [],
   "source": [
    "import pandas as pd\n",
    "from matplotlib import pyplot as plt\n",
    "import numpy as np\n",
    "import math\n",
    "import seaborn as sns\n",
    "import sklearn\n",
    "from sklearn import linear_model\n",
    "from sklearn import preprocessing\n",
    "%matplotlib inline\n",
    "sns.set_style('white')"
   ]
  },
  {
   "cell_type": "code",
   "execution_count": 2,
   "metadata": {},
   "outputs": [
    {
     "name": "stderr",
     "output_type": "stream",
     "text": [
      "/usr/local/lib/python3.7/site-packages/ipykernel_launcher.py:11: DataConversionWarning: Data with input dtype int64, float64 were all converted to float64 by the scale function.\n",
      "  # This is added back by InteractiveShellApp.init_path()\n"
     ]
    }
   ],
   "source": [
    "# Load the data again. Keep air quality data, drop the index column\n",
    "# and any missing data columns.\n",
    "df = pd.read_csv(\n",
    "    'https://vincentarelbundock.github.io/Rdatasets/csv/ISLR/Default.csv'\n",
    ").iloc[:,1:].dropna()\n",
    "\n",
    "# Recode strings to numeric.\n",
    "df['default'] = np.where(df['default']=='Yes', 1, 0)\n",
    "df['student'] = np.where(df['student']=='Yes', 1, 0)\n",
    "names = df.columns\n",
    "df = pd.DataFrame(preprocessing.scale(df), columns=names)\n",
    "\n",
    "# Define the training and test sizes.\n",
    "trainsize = int(df.shape[0] / 2)\n",
    "df_test = df.iloc[trainsize:, :].copy()\n",
    "df_train = df.iloc[:trainsize, :].copy()\n",
    "\n",
    "Y_train = df_train['income'].values.reshape(-1, 1)\n",
    "X_train = df_train.loc[:, ~(df_train.columns).isin(['income'])]\n",
    "\n",
    "# Make some new features to capture potential quadratic and cubic\n",
    "# relationships between solar radiation and day or temperature.???\n",
    "df_train['balance_student'] = df_train['balance'] * df_train['student']\n",
    "df_train['balance_default'] = df_train['balance'] * df_train['default']\n",
    "df_train['student_default'] = df_train['student'] * df_train['default']\n",
    "df_train['balance_sqrt'] = (df_train['balance'] + 100) ** .5\n",
    "df_train['balance2'] = (df_train['balance'] + 100) ** 2\n",
    "df_train['balance3'] = (df_train['balance'] + 100) ** 3\n",
    "\n",
    "X_train2 = df_train.loc[:, ~(df_train.columns).isin(['income'])]\n",
    "\n",
    "# Test the simpler model with smaller coefficients.\n",
    "Y_test = df_test['income'].values.reshape(-1, 1)\n",
    "X_test = df_test.loc[:, ~(df_test.columns).isin(['income'])]\n",
    "\n",
    "# Test the more complex model with larger coefficients.\n",
    "df_test['balance_student'] = df_test['balance'] * df_test['student']\n",
    "df_test['balance_default'] = df_test['balance'] * df_test['default']\n",
    "df_test['student_default'] = df_test['student'] * df_test['default']\n",
    "df_test['balance_sqrt'] = (df_test['balance'] + 100) ** .5\n",
    "df_test['balance2'] = (df_test['balance'] + 100) ** 2\n",
    "df_test['balance3'] = (df_test['balance'] + 100) ** 3\n",
    "X_test2 = df_test.loc[:, ~(df_test.columns).isin(['income'])]\n"
   ]
  },
  {
   "cell_type": "code",
   "execution_count": 6,
   "metadata": {},
   "outputs": [
    {
     "name": "stdout",
     "output_type": "stream",
     "text": [
      "R² for lasso regression model with few features on training set:\n",
      "0.5635902495700011\n",
      "\n",
      "Parameter estimates for the model with few features:\n",
      "default: 0.0000\n",
      "student: -0.6582\n",
      "balance: -0.0000\n",
      "\n",
      "R² for lasso regression model with many features on training set:\n",
      "0.5630894936716484\n",
      "\n",
      "Parameter estimates for the model with many features:\n",
      "default: 0.0\n",
      "student: -0.6540931165485392\n",
      "balance: 0.0\n",
      "balance_student: -0.0\n",
      "balance_default: 0.0\n",
      "student_default: -0.0\n",
      "balance_sqrt: 0.0\n",
      "balance2: -8.125965142119828e-05\n",
      "balance3: -6.651472344782182e-08\n"
     ]
    }
   ],
   "source": [
    "# Small number of parameters.\n",
    "lass = linear_model.Lasso(alpha=.1)\n",
    "lassfit = lass.fit(X_train, Y_train)\n",
    "print('R² for lasso regression model with few features on training set:')\n",
    "print(lass.score(X_train, Y_train))\n",
    "origparams = np.append(lassfit.coef_, lassfit.intercept_)\n",
    "print('\\nParameter estimates for the model with few features:')\n",
    "for i in range(len(origparams)-1):\n",
    "    print('{}: {:.4f}'.format(X_train.columns[i], origparams[i]))\n",
    "\n",
    "# Large number of parameters.\n",
    "lassBig = linear_model.Lasso(alpha=.1)\n",
    "lassBig.fit(X_train2, Y_train)\n",
    "print('\\nR² for lasso regression model with many features on training set:')\n",
    "print(lassBig.score(X_train2, Y_train))\n",
    "origparams = np.append(lassBig.coef_, lassBig.intercept_)\n",
    "print('\\nParameter estimates for the model with many features:')\n",
    "for i in range(len(origparams)-1):\n",
    "    print('{}: {}'.format(X_train2.columns[i], origparams[i]))"
   ]
  },
  {
   "cell_type": "code",
   "execution_count": 7,
   "metadata": {},
   "outputs": [
    {
     "name": "stdout",
     "output_type": "stream",
     "text": [
      "\n",
      "R-squared lasso regression model with few features on test set:\n",
      "0.5550494466587756\n",
      "\n",
      "R-squared lasso regression model with many features on test set:\n",
      "0.5546727927200348\n"
     ]
    }
   ],
   "source": [
    "print('\\nR-squared lasso regression model with few features on test set:')\n",
    "print(lass.score(X_test, Y_test))\n",
    "\n",
    "print('\\nR-squared lasso regression model with many features on test set:')\n",
    "print(lassBig.score(X_test2, Y_test))"
   ]
  },
  {
   "cell_type": "code",
   "execution_count": 39,
   "metadata": {},
   "outputs": [],
   "source": [
    "alpha = np.around(np.linspace(0.01, 1, 110), 2)\n",
    "\n",
    "lasso_vals = []\n",
    "ridge_vals = []\n",
    "\n",
    "for lambd in alpha:\n",
    "    lassoBig = linear_model.Lasso(alpha=lambd)\n",
    "    lassoBig.fit(X_train2, Y_train)\n",
    "    r_square_lasso = lassoBig.score(X_train2, Y_train)\n",
    "    lasso_vals.append(r_square_lasso)\n",
    "    \n",
    "    ridgeBig = linear_model.Ridge(alpha=lambd)\n",
    "    ridgeBig.fit(X_train2, Y_train)\n",
    "    r_square_ridge = ridgeBig.score(X_train2, Y_train)\n",
    "    ridge_vals.append(r_square_ridge)\n",
    "    "
   ]
  },
  {
   "cell_type": "code",
   "execution_count": 40,
   "metadata": {},
   "outputs": [
    {
     "data": {
      "image/png": "[encoded data removed]",
      "text/plain": [
       "<Figure size 576x360 with 1 Axes>"
      ]
     },
     "metadata": {},
     "output_type": "display_data"
    }
   ],
   "source": [
    "plt.figure(figsize=(8,5))\n",
    "plt.plot(alpha, lasso_vals, label='Lasso Regresssion')\n",
    "plt.plot(alpha, ridge_vals, label='Ridge Regression')\n",
    "plt.title('Lasso Regression $R^2$ value with different $\\lambda$ values')\n",
    "plt.xlabel('$\\lambda$')\n",
    "plt.ylabel('$R^2$')\n",
    "plt.legend()\n",
    "plt.show()"
   ]
  },
  {
   "cell_type": "code",
   "execution_count": 41,
   "metadata": {},
   "outputs": [
    {
     "name": "stdout",
     "output_type": "stream",
     "text": [
      "[0.5739723179972084, 0.5739723169065798, 0.573972316532436, 0.5739723163338071, 0.5739723162023578, 0.5739723161019563, 0.5739723161019563, 0.5739723160171132, 0.573972315940082, 0.5739723158665584]\n",
      "[0.5737681044618193, 0.5733739342611162, 0.5727518413871451, 0.5720087276567742, 0.5710532985531875, 0.5698849880664936, 0.5698849880664936, 0.5685046614224027, 0.5669119701418983, 0.5651069142249803]\n"
     ]
    }
   ],
   "source": [
    "print(ridge_vals[:10])\n",
    "print(lasso_vals[:10])"
   ]
  },
  {
   "cell_type": "markdown",
   "metadata": {},
   "source": [
    "It looks as if with the first view values, the R^2 values are somewhat similar for the low alphas (0.01 etc) but then as the alpha's increase up to the value of 1, then Lasso Regression R^2 values drop very quickly, whereas the R^2 values for ridge regression drop much more slowly."
   ]
  },
  {
   "cell_type": "code",
   "execution_count": 65,
   "metadata": {},
   "outputs": [
    {
     "data": {
      "image/png": "[encoded data removed]",
      "text/plain": [
       "<Figure size 576x360 with 1 Axes>"
      ]
     },
     "metadata": {},
     "output_type": "display_data"
    }
   ],
   "source": [
    "alpha = np.linspace(1, 5e5, 10000)\n",
    "\n",
    "ridge_vals = []\n",
    "\n",
    "for lambd in alpha:\n",
    "    \n",
    "    ridgeBig = linear_model.Ridge(alpha=lambd)\n",
    "    ridgeBig.fit(X_train2, Y_train)\n",
    "    r_square_ridge = ridgeBig.score(X_train2, Y_train)\n",
    "    ridge_vals.append(r_square_ridge)\n",
    "    \n",
    "plt.figure(figsize=(8,5))\n",
    "plt.plot(alpha, ridge_vals, label='Ridge Regression')\n",
    "plt.title('Lasso Regression $R^2$ value with different $\\lambda$ values')\n",
    "plt.xlabel('$\\lambda$')\n",
    "plt.ylabel('$R^2$')\n",
    "plt.show()"
   ]
  },
  {
   "cell_type": "code",
   "execution_count": null,
   "metadata": {},
   "outputs": [],
   "source": []
  }
 ],
 "metadata": {
  "kernelspec": {
   "display_name": "Python 3",
   "language": "python",
   "name": "python3"
  },
  "language_info": {
   "codemirror_mode": {
    "name": "ipython",
    "version": 3
   },
   "file_extension": ".py",
   "mimetype": "text/x-python",
   "name": "python",
   "nbconvert_exporter": "python",
   "pygments_lexer": "ipython3",
   "version": "3.7.0"
  }
 },
 "nbformat": 4,
 "nbformat_minor": 2
}
