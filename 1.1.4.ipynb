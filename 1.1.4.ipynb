{
 "cells": [
  {
   "cell_type": "markdown",
   "metadata": {},
   "source": [
    "#### Below we have a series of questions for you to translate into a technical plan. For each question, describe how you would make it testable and translate it from a general question into something statistically rigorous. Write your answers down in a shareable document and submit the link below."
   ]
  },
  {
   "cell_type": "markdown",
   "metadata": {},
   "source": [
    "1. You work at an e-commerce company that sells three goods: widgets, doodads, and fizzbangs. The head of advertising asks you which they should feature in their new advertising campaign. You have data on individual visitors' sessions (activity on a website, pageviews, and purchases), as well as whether or not those users converted from an advertisement for that session. You also have the cost and price information for the goods.\n",
    "\n",
    "    a. I would compare all the information for each of the goods. Looking at the individual user sessions, I would check to see which good has the most pageviews and purchases on the website. I would also compare this data with the total profit from cost and price information for each good to make sure that even if one has more purchases that it is also the most valuable - which good yields the most profit. Especially since this is for an advertisement, I would take into account which good's advertisment converts the most users. I would then compare which good might sell better online with which yields more profit and use this imformation to pick which good to feature in the advertising campaign."
   ]
  },
  {
   "cell_type": "markdown",
   "metadata": {},
   "source": [
    "2. You work at a web design company that offers to build websites for clients. Signups have slowed, and you are tasked with finding out why. The onboarding funnel has three steps: email and password signup, plan choice, and payment. On a user level you have information on what steps they have completed as well as timestamps for all of those events for the past 3 years. You also have information on marketing spend on a weekly level.\n",
    "\n",
    "    a. I would search through the data to see where in the 3 steps that the process slows. I would see whether maybe people are confused on the plan choices or if it's during the payment processes that the signups stop. I would also look to see when signups started slowing by looking at the time stamps - where there any specific changes we made during a certain time that made signups stop? If we stopped using a certain marketing technique and I find that the signups slowed after that, then we could possibly see that changing that marketing technique was not a good choice. If I see that most people are only completing so many steps in the signup, that could indicate that the process is confusing or difficuly, or maybe that our advertisements were confusing and they didn't think they'd have to pay until they were at the final step. "
   ]
  },
  {
   "cell_type": "markdown",
   "metadata": {},
   "source": [
    "3. You work at a hotel website and currently the website ranks search results by price. For simplicity's sake, let's say it's a website for one city with 100 hotels. You are tasked with proposing a better ranking system. You have session information, price information for the hotels, and whether each hotel is currently available.\n",
    "\n",
    "    a. I would use the session information to see how users are picking hotels. In the current system, I imagine users will most likely see the first couple of hotels that are the cheapest and I would see whether this attracts more users to book when the hotel is available later or if they move on to a hotel that is currently available. If the latter is the case then I would suggest organizing the search results by availability first and then by price so that people are not wasting time looking at hotels that are not currently available. "
   ]
  },
  {
   "cell_type": "markdown",
   "metadata": {},
   "source": [
    "4. You work at a social network, and the management is worried about churn (users stopping using the product). You are tasked with finding out if their churn is atypical. You have three years of data for users with an entry for every time they've logged in, including the timestamp and length of session.\n",
    "\n",
    "    a. I would compare this data over time to see where people stopped using the product, if there are any spikes or decreases throughout time. I would compare when people log in and see how long they spend on the site. Also frequency of log ins. we might have lots of people that are signed up, but if they only log in once a week and spend an hour, vs someone who logs in once a day and spends 10 minutes would make a difference depending on our goals. I would look to see if log ins have decreased over time and also whether the length of sessions have decreased over time. When someone first installs the app, they might use it quite often and then almost never use it after that. I would look to see what the average time spent on the app and number of log ins would be and compare that between each year or month and see if there is a decreasing trend or not."
   ]
  },
  {
   "cell_type": "code",
   "execution_count": null,
   "metadata": {},
   "outputs": [],
   "source": []
  }
 ],
 "metadata": {
  "kernelspec": {
   "display_name": "Python 3",
   "language": "python",
   "name": "python3"
  },
  "language_info": {
   "codemirror_mode": {
    "name": "ipython",
    "version": 3
   },
   "file_extension": ".py",
   "mimetype": "text/x-python",
   "name": "python",
   "nbconvert_exporter": "python",
   "pygments_lexer": "ipython3",
   "version": "3.7.0"
  }
 },
 "nbformat": 4,
 "nbformat_minor": 2
}
