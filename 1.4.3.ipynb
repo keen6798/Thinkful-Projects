{
 "cells": [
  {
   "cell_type": "markdown",
   "metadata": {},
   "source": [
    "#### For each of the following scenarios, call out the potential biases in the proposed experiment. Do your best to try to discover not only the bias, but the initial design. There is plenty of room for interpretation here, so make sure to state what assumptions you're making."
   ]
  },
  {
   "cell_type": "markdown",
   "metadata": {},
   "source": [
    "1. You're testing advertising emails for a bathing suit company and you test one version of the email in February and the other in May.\n",
    "\n",
    "    a. It is not likely that many people are looking to go swimming in February. You are going to get more results with the advertisement in May because more people are looking to buy swimsuits just as summer is starting.\n",
    "\n",
    "\n",
    "2. You open a clinic to treat anxiety and find that the people who visit show a higher rate of anxiety than the general population.\n",
    "\n",
    "    a. People that go to a clinic to be treated for anxiety are obviously going to have more anxiety than the general public (people that don't go to the clinic).\n",
    "\n",
    "\n",
    "3. You launch a new ad billboard based campaign and see an increase in website visits in the first week.\n",
    "\n",
    "    a. Here this is no control. Where are visits coming from? There is no way to tell if the increase in website visits are from the billboard or from something else. For example - we have no information if the visits are coming from the area that the billboard was placed. \n",
    "    \n",
    "    \n",
    "4. You launch a loyalty program but see no change in visits in the first week.\n",
    "\n",
    "    a. Having a loyalty program is not designed to make it so that people come more often, but stay longer. One week is such a small amount of time. loyaltly programs are designed to bring the same customers back over time. The objective here is to retain customers and this method would only make it so that current customers will (hopefully) stay longer and would not likely encourage new customer growth."
   ]
  }
 ],
 "metadata": {
  "kernelspec": {
   "display_name": "Python 3",
   "language": "python",
   "name": "python3"
  },
  "language_info": {
   "codemirror_mode": {
    "name": "ipython",
    "version": 3
   },
   "file_extension": ".py",
   "mimetype": "text/x-python",
   "name": "python",
   "nbconvert_exporter": "python",
   "pygments_lexer": "ipython3",
   "version": "3.7.0"
  }
 },
 "nbformat": 4,
 "nbformat_minor": 2
}
