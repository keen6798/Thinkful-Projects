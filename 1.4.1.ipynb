{
 "cells": [
  {
   "cell_type": "markdown",
   "metadata": {},
   "source": [
    "#### For each of the following questions, outline how you could use an A/B test to find an answer. Be sure to identify all five key components of an A/B test we outlined above."
   ]
  },
  {
   "cell_type": "markdown",
   "metadata": {},
   "source": [
    "1. Does a new supplement help people sleep better?\n",
    "\n",
    "    a. I would group my randomly selected subjects into two groups. Then I would give one group the supplement and another group a placebo pill. The hypothesis would be that taking the new supplement would help the one group sleep better than the placebo group. I would study general sleep patterns such as - do people on the supplement enter REM sleep faster and stay there longer and test how rested they feel when they wake up. Deciding on what it means to 'sleep better' would be important. I would also take demographic information as well as health information which could lead to more insights of how this supplement helps specific demographics or generally healthy vs. unhealthy people.\n",
    "\n",
    "\n",
    "2. Will new uniforms help a gym's business?\n",
    "\n",
    "    a. Here, I will assume that the gym is a chain. I would randomly select these gyms into two groups. I would have one half of the gyms try using new uniforms and study how business does - I would study whether customers spend more on murchandise at these gyms or come more frequently, or whether those chains gain more customers, and in general study income to see if there is a significant increase compared to the gyms without uniforms. Since people sign up to use a gym, I would try to get demographic information of the customers to help ensure that they are similar between stores. \n",
    "    \n",
    "    \n",
    "3. Will a new homepage improve my online exotic pet rental business?\n",
    "\n",
    "    a. In this case, I would set up my website so that for a randomly selected portion of it's viewers, they would see this new homepage vs. the old homepage. I would then monitor my business for each session and compare whether my business is improved with the new homepage compare to the old homepage. If after a time, it seems that the users that see the new homepage rent more often, then I would know to change my homepage to the new one permanently. \n",
    "   \n",
    "   \n",
    "4. If I put 'please read' in the email subject will more people read my emails?\n",
    "\n",
    "    a. I could send the same email to a group of people but randomly select about half of them and include 'please read' in the email. I would make sure that there is a question in the email that requests a response and calculate the success of the 'please read' statement by the number of people that respond. "
   ]
  },
  {
   "cell_type": "code",
   "execution_count": null,
   "metadata": {},
   "outputs": [],
   "source": []
  }
 ],
 "metadata": {
  "kernelspec": {
   "display_name": "Python 3",
   "language": "python",
   "name": "python3"
  },
  "language_info": {
   "codemirror_mode": {
    "name": "ipython",
    "version": 3
   },
   "file_extension": ".py",
   "mimetype": "text/x-python",
   "name": "python",
   "nbconvert_exporter": "python",
   "pygments_lexer": "ipython3",
   "version": "3.7.0"
  }
 },
 "nbformat": 4,
 "nbformat_minor": 2
}
