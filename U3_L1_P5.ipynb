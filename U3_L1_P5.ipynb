{
 "cells": [
  {
   "cell_type": "code",
   "execution_count": 107,
   "metadata": {},
   "outputs": [],
   "source": [
    "import numpy as np\n",
    "import pandas as pd"
   ]
  },
  {
   "cell_type": "markdown",
   "metadata": {},
   "source": [
    "# 1. "
   ]
  },
  {
   "cell_type": "code",
   "execution_count": 108,
   "metadata": {},
   "outputs": [
    {
     "name": "stdout",
     "output_type": "stream",
     "text": [
      "Mean: 9.857142857142858\n",
      "Median: 10.0\n",
      "Mode: 8\n",
      "Variance: 6.408163265306122\n",
      "Standard Deviation: 2.531435020952764\n",
      "Standard Error: 1.0334540197243194\n"
     ]
    }
   ],
   "source": [
    "kid_data = pd.DataFrame()\n",
    "kid_data['Name'] = ['Greg', 'Marcia', 'Peter', 'Jan', 'Bobby', 'Cindy', 'Cousin Oliver']\n",
    "kid_data['Age'] = [14, 12, 11, 10, 8, 6, 8]\n",
    "\n",
    "def statistical_summary(df) :\n",
    "    import statistics\n",
    "    age_vals = df[df.columns[1]]\n",
    "    mean = np.mean(age_vals)\n",
    "    median = np.median(age_vals)\n",
    "    try:\n",
    "        mode = statistics.mode(age_vals)\n",
    "    except:\n",
    "        mode = None\n",
    "\n",
    "    variance = np.var(age_vals)\n",
    "    standard_deviation = np.std(age_vals)\n",
    "    standard_error = np.std(age_vals)/np.sqrt(len(age_vals)-1)\n",
    "\n",
    "    print('Mean: {}'.format(mean))\n",
    "    print('Median: {}'.format(median))\n",
    "    print('Mode: {}'.format(mode))\n",
    "\n",
    "    print('Variance: {}'.format(variance))\n",
    "    print('Standard Deviation: {}'.format(standard_deviation))\n",
    "    print('Standard Error: {}'.format(standard_error))\n",
    "\n",
    "statistical_summary(kid_data)"
   ]
  },
  {
   "cell_type": "markdown",
   "metadata": {},
   "source": [
    "# 2.\n",
    "\n",
    "If I had to choose one estimate of central tendency and one estimate of variance I would choose the mean and the standard deviation sicne both the mean and median are close enough together."
   ]
  },
  {
   "cell_type": "markdown",
   "metadata": {},
   "source": [
    "# 3.\n",
    "(Cindy had a birthday)"
   ]
  },
  {
   "cell_type": "code",
   "execution_count": 109,
   "metadata": {},
   "outputs": [
    {
     "name": "stdout",
     "output_type": "stream",
     "text": [
      "Mean: 10.0\n",
      "Median: 10.0\n",
      "Mode: 8\n",
      "Variance: 5.428571428571429\n",
      "Standard Deviation: 2.32992949004287\n",
      "Standard Error: 0.951189731211342\n",
      "None\n"
     ]
    }
   ],
   "source": [
    "kid_data.loc[5, 'Age'] = 7\n",
    "\n",
    "print(statistical_summary(kid_data))"
   ]
  },
  {
   "cell_type": "markdown",
   "metadata": {},
   "source": [
    "You can see that all of the values except for the median and mode have changed slightly due to the small change in data. "
   ]
  },
  {
   "cell_type": "markdown",
   "metadata": {},
   "source": [
    "# 4.\n",
    "Replacing Cousin Oliver with Jessica"
   ]
  },
  {
   "cell_type": "code",
   "execution_count": 110,
   "metadata": {},
   "outputs": [
    {
     "name": "stdout",
     "output_type": "stream",
     "text": [
      "Mean: 9.0\n",
      "Median: 10.0\n",
      "Mode: None\n",
      "Variance: 15.428571428571429\n",
      "Standard Deviation: 3.927922024247863\n",
      "Standard Error: 1.6035674514745466\n",
      "None\n"
     ]
    }
   ],
   "source": [
    "kid_data.loc[6,'Name'] = 'Jessica'\n",
    "kid_data.loc[6, 'Age'] = 1\n",
    "\n",
    "print(statistical_summary(kid_data))"
   ]
  },
  {
   "cell_type": "markdown",
   "metadata": {},
   "source": [
    "Here we can see that there is a bigger difference between the mean and the median now. The mean has decreased because of the significant different between Jessica's age and the other childrens ages. In this case, I would use the median as the central tendency."
   ]
  },
  {
   "cell_type": "markdown",
   "metadata": {},
   "source": [
    "# 5."
   ]
  },
  {
   "cell_type": "code",
   "execution_count": 111,
   "metadata": {},
   "outputs": [
    {
     "name": "stdout",
     "output_type": "stream",
     "text": [
      "Mean: 16.25\n",
      "Median: 18.5\n",
      "Mode: None\n",
      "Variance: 46.6875\n",
      "Standard Deviation: 6.832825184358224\n",
      "Standard Error: 3.9449334595148753\n",
      "None\n"
     ]
    }
   ],
   "source": [
    "magazine_fans = pd.DataFrame()\n",
    "magazine_fans['Magazine'] = ['TV Guide','Entertainment Weekly','Pop Culture Today','SciPhi Phanatic']\n",
    "magazine_fans['Fans'] = [20, 23, 17, 5]\n",
    "\n",
    "print(statistical_summary(magazine_fans))"
   ]
  },
  {
   "cell_type": "markdown",
   "metadata": {},
   "source": [
    "I would edit this data, because our outlier is shifting our data. since SciPhi Phanatic is not only an outlier but a special type magazine that specializes in a certain material (scifi), I would say that we can remove the data from SciPhi Phanatic. Therefore.."
   ]
  },
  {
   "cell_type": "code",
   "execution_count": 112,
   "metadata": {},
   "outputs": [
    {
     "name": "stdout",
     "output_type": "stream",
     "text": [
      "Mean: 20.0\n",
      "Median: 20.0\n",
      "Mode: None\n",
      "Variance: 6.0\n",
      "Standard Deviation: 2.449489742783178\n",
      "Standard Error: 1.732050807568877\n",
      "None\n"
     ]
    }
   ],
   "source": [
    "print(statistical_summary(magazine_fans[:-1]))"
   ]
  },
  {
   "cell_type": "markdown",
   "metadata": {},
   "source": [
    "So I would estimate the percentage of adult americans that were fans of the Brady Bunch on the 50th anniversary, based on this data, would be $20\\%$. "
   ]
  },
  {
   "cell_type": "code",
   "execution_count": null,
   "metadata": {},
   "outputs": [],
   "source": []
  }
 ],
 "metadata": {
  "kernelspec": {
   "display_name": "Python 3",
   "language": "python",
   "name": "python3"
  },
  "language_info": {
   "codemirror_mode": {
    "name": "ipython",
    "version": 3
   },
   "file_extension": ".py",
   "mimetype": "text/x-python",
   "name": "python",
   "nbconvert_exporter": "python",
   "pygments_lexer": "ipython3",
   "version": "3.7.0"
  }
 },
 "nbformat": 4,
 "nbformat_minor": 2
}
