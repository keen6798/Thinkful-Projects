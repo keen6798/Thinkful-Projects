{
 "cells": [
  {
   "cell_type": "code",
   "execution_count": 1,
   "metadata": {},
   "outputs": [],
   "source": [
    "import numpy as np\n",
    "import matplotlib.pyplot as plt\n",
    "import pandas as pd\n",
    "import seaborn as sns; sns.set()\n",
    "import statsmodels.api as sm\n",
    "from sklearn.linear_model import LogisticRegression\n",
    "from sklearn.model_selection import cross_val_score\n",
    "from sklearn.model_selection import train_test_split"
   ]
  },
  {
   "cell_type": "code",
   "execution_count": 2,
   "metadata": {},
   "outputs": [],
   "source": [
    "voice = pd.read_csv('voice.csv')\n",
    "voice['label'] = np.where(voice['label'] == 'male', 1, 0) # male is 1 and female is 0\n",
    "\n",
    "\n",
    "X = voice.drop('label', 1)\n",
    "Y = voice['label']\n",
    "\n",
    "# Use train_test_split to create the necessary training and test groups\n",
    "X_train, X_test, y_train, y_test = train_test_split(X, Y, test_size=0.3, random_state=4171)"
   ]
  },
  {
   "cell_type": "markdown",
   "metadata": {},
   "source": [
    "# Vanilla Logistic Regression\n",
    "### Train"
   ]
  },
  {
   "cell_type": "code",
   "execution_count": 3,
   "metadata": {},
   "outputs": [
    {
     "name": "stdout",
     "output_type": "stream",
     "text": [
      "Coefficients\n",
      "[[ 6.59914366e-01  6.95069648e+00 -5.89711251e+00 -1.91166160e+01\n",
      "   2.18803057e+01  4.09969217e+01  1.57535398e-01 -9.14591643e-03\n",
      "   2.87712729e+01 -9.76766240e+00  3.90995265e+00  6.59914366e-01\n",
      "  -1.65821032e+02  3.60967491e+01 -3.96951726e+00  2.99451577e-01\n",
      "  -5.95301362e-01 -3.22726043e-01  2.72575319e-01 -4.72040641e+00]]\n",
      "Intercept\n",
      "[-4.43851904]\n",
      "\n",
      " Accuracy\n",
      "label     0     1\n",
      "row_0            \n",
      "0      1086    24\n",
      "1        29  1078\n",
      "\n",
      " Percentage accuracy\n",
      "0.9760938204781235\n",
      " \n",
      " cross validation\n",
      "[0.97757848 0.98206278 0.96396396 0.98198198 0.96846847 0.97737557\n",
      " 0.9638009  0.9638009  0.98190045 0.97285068]\n",
      "97.34% +/- 1.49\n"
     ]
    }
   ],
   "source": [
    "#Logistic Regression\n",
    "vanilla_lr = LogisticRegression(C=.4*1e9, solver='liblinear', random_state=103) \n",
    "#random state for comparative purposes\n",
    "\n",
    "# Fit the model.\n",
    "vanilla_fit = vanilla_lr.fit(X_train, y_train)\n",
    "\n",
    "# Display.\n",
    "print('Coefficients')\n",
    "print(vanilla_fit.coef_)\n",
    "print('Intercept')\n",
    "print(vanilla_fit.intercept_)\n",
    "pred_y_vanilla = vanilla_lr.predict(X_train)\n",
    "\n",
    "print('\\n Accuracy')\n",
    "print(pd.crosstab(pred_y_vanilla, y_train))\n",
    "\n",
    "print('\\n Percentage accuracy')\n",
    "print(vanilla_lr.score(X_train, y_train))\n",
    "\n",
    "print(' \\n cross validation')\n",
    "vanilla_cv = cross_val_score(vanilla_lr, X_train, y_train, cv=10)\n",
    "print(vanilla_cv)\n",
    "print('{:.4}% +/- {:.3}'.format(vanilla_cv.mean()*100, np.std(vanilla_cv)*200))"
   ]
  },
  {
   "cell_type": "markdown",
   "metadata": {},
   "source": [
    "### Test"
   ]
  },
  {
   "cell_type": "code",
   "execution_count": 4,
   "metadata": {},
   "outputs": [
    {
     "name": "stdout",
     "output_type": "stream",
     "text": [
      "\n",
      " Accuracy\n",
      "label    0    1\n",
      "row_0          \n",
      "0      454   12\n",
      "1       15  470\n",
      "\n",
      " Percentage accuracy\n",
      "0.9716088328075709\n",
      " \n",
      " cross validation\n",
      "[0.97916667 0.96875    1.         0.94736842 0.97894737 0.95789474\n",
      " 0.96842105 0.94736842 0.95789474 1.        ]\n",
      "97.06% +/- 3.62\n"
     ]
    }
   ],
   "source": [
    "pred_y_vanilla = vanilla_lr.predict(X_test)\n",
    "\n",
    "print('\\n Accuracy')\n",
    "print(pd.crosstab(pred_y_vanilla, y_test))\n",
    "\n",
    "print('\\n Percentage accuracy')\n",
    "print(vanilla_lr.score(X_test, y_test))\n",
    "\n",
    "print(' \\n cross validation')\n",
    "vanilla_cv = cross_val_score(vanilla_lr, X_test, y_test, cv=10)\n",
    "print(vanilla_cv)\n",
    "print('{:.4}% +/- {:.3}'.format(vanilla_cv.mean()*100, np.std(vanilla_cv)*200))"
   ]
  },
  {
   "cell_type": "markdown",
   "metadata": {},
   "source": [
    "# Ridge Logistic Regression\n",
    "### Train"
   ]
  },
  {
   "cell_type": "code",
   "execution_count": 5,
   "metadata": {},
   "outputs": [
    {
     "name": "stdout",
     "output_type": "stream",
     "text": [
      "Coefficients\n",
      "[[ 8.08545079e-01  6.94523378e+00 -5.81822577e+00 -1.89418240e+01\n",
      "   2.21231449e+01  4.10649688e+01  1.60366829e-01 -9.11879509e-03\n",
      "   2.88179027e+01 -9.75607624e+00  4.00440053e+00  8.08545079e-01\n",
      "  -1.66085480e+02  3.64193999e+01 -3.96843987e+00  2.48702518e-01\n",
      "  -6.49410288e-01 -3.45520559e-01  3.03889729e-01 -4.34078291e+00]]\n",
      "Intercept\n",
      "[-4.69419682]\n",
      "\n",
      " Accuracy\n",
      "label     0     1\n",
      "row_0            \n",
      "0      1085    24\n",
      "1        30  1078\n",
      "\n",
      " Percentage accuracy\n",
      "0.9756427604871448\n",
      " \n",
      " cross validation\n",
      "[0.97757848 0.98206278 0.96396396 0.98198198 0.96846847 0.97737557\n",
      " 0.96832579 0.9638009  0.98190045 0.97285068]\n",
      "97.38% +/- 1.39\n"
     ]
    }
   ],
   "source": [
    "ridge_lr = LogisticRegression(C=.4*1e9, penalty='l2', solver='liblinear', random_state=103)\n",
    "\n",
    "# Fit the model.\n",
    "ridge_fit = ridge_lr.fit(X_train, y_train)\n",
    "\n",
    "# Display.\n",
    "print('Coefficients')\n",
    "print(ridge_fit.coef_)\n",
    "print('Intercept')\n",
    "print(ridge_fit.intercept_)\n",
    "pred_y_ridge = ridge_lr.predict(X_train)\n",
    "\n",
    "print('\\n Accuracy')\n",
    "print(pd.crosstab(pred_y_ridge, y_train))\n",
    "\n",
    "print('\\n Percentage accuracy')\n",
    "print(ridge_lr.score(X_train, y_train))\n",
    "\n",
    "print(' \\n cross validation')\n",
    "ridge_cv = cross_val_score(ridge_lr, X_train, y_train, cv=10)\n",
    "print(ridge_cv)\n",
    "print('{:.4}% +/- {:.3}'.format(ridge_cv.mean()*100, np.std(ridge_cv)*200))"
   ]
  },
  {
   "cell_type": "markdown",
   "metadata": {},
   "source": [
    "### Test"
   ]
  },
  {
   "cell_type": "code",
   "execution_count": 6,
   "metadata": {},
   "outputs": [
    {
     "name": "stdout",
     "output_type": "stream",
     "text": [
      "\n",
      " Accuracy\n",
      "label    0    1\n",
      "row_0          \n",
      "0      455   12\n",
      "1       14  470\n",
      "\n",
      " Percentage accuracy\n",
      "0.9726603575184016\n",
      " \n",
      " cross validation\n",
      "[0.97916667 0.96875    1.         0.94736842 0.97894737 0.95789474\n",
      " 0.96842105 0.94736842 0.95789474 1.        ]\n",
      "97.06% +/- 3.62\n"
     ]
    }
   ],
   "source": [
    "pred_y_ridge = ridge_lr.predict(X_test)\n",
    "\n",
    "print('\\n Accuracy')\n",
    "print(pd.crosstab(pred_y_ridge, y_test))\n",
    "\n",
    "print('\\n Percentage accuracy')\n",
    "print(ridge_lr.score(X_test, y_test))\n",
    "\n",
    "print(' \\n cross validation')\n",
    "ridge_cv = cross_val_score(ridge_lr, X_test, y_test, cv=10)\n",
    "print(ridge_cv)\n",
    "print('{:.4}% +/- {:.3}'.format(ridge_cv.mean()*100, np.std(ridge_cv)*200))"
   ]
  },
  {
   "cell_type": "markdown",
   "metadata": {},
   "source": [
    "# Lasso Logisitc Regression\n",
    "### Train"
   ]
  },
  {
   "cell_type": "code",
   "execution_count": 7,
   "metadata": {},
   "outputs": [
    {
     "name": "stdout",
     "output_type": "stream",
     "text": [
      "Coefficients\n",
      "[[ 7.00920939e+00  1.52680454e+01 -8.15972010e+00 -7.61722967e+00\n",
      "   5.53186433e+00  5.31803648e+01  7.48584982e-04 -5.92035254e-03\n",
      "   1.33486149e+01 -7.05111784e+00  2.81143332e+00  6.90851759e+00\n",
      "  -1.71597219e+02  4.27930739e+01 -2.95449656e+00  1.91542273e-01\n",
      "  -7.84731463e-01  9.70617934e-03 -5.37585042e-02 -4.11739263e+00]]\n",
      "Intercept\n",
      "[7.88582315]\n",
      "\n",
      " Accuracy\n",
      "label     0     1\n",
      "row_0            \n",
      "0      1090    24\n",
      "1        25  1078\n",
      "\n",
      " Percentage accuracy\n",
      "0.9778980604420388\n",
      " \n",
      " cross validation\n",
      "[0.97757848 0.98206278 0.96396396 0.97297297 0.96846847 0.97737557\n",
      " 0.97285068 0.96832579 0.98190045 0.97285068]\n",
      "97.38% +/- 1.13\n"
     ]
    }
   ],
   "source": [
    "lasso_lr = LogisticRegression(C=.4*1e9, penalty='l1', solver='liblinear', random_state=103)\n",
    "\n",
    "# Fit the model.\n",
    "lasso_fit = lasso_lr.fit(X_train, y_train)\n",
    "\n",
    "# Display.\n",
    "print('Coefficients')\n",
    "print(lasso_fit.coef_)\n",
    "print('Intercept')\n",
    "print(lasso_fit.intercept_)\n",
    "pred_y_lasso = lasso_lr.predict(X_train)\n",
    "\n",
    "print('\\n Accuracy')\n",
    "print(pd.crosstab(pred_y_lasso, y_train))\n",
    "\n",
    "print('\\n Percentage accuracy')\n",
    "print(lasso_lr.score(X_train, y_train))\n",
    "\n",
    "print(' \\n cross validation')\n",
    "lasso_cv = cross_val_score(lasso_lr, X_train, y_train, cv=10)\n",
    "print(lasso_cv)\n",
    "print('{:.4}% +/- {:.3}'.format(lasso_cv.mean()*100, np.std(lasso_cv)*200))"
   ]
  },
  {
   "cell_type": "markdown",
   "metadata": {},
   "source": [
    "### Test"
   ]
  },
  {
   "cell_type": "code",
   "execution_count": 8,
   "metadata": {},
   "outputs": [
    {
     "name": "stdout",
     "output_type": "stream",
     "text": [
      "\n",
      " Accuracy\n",
      "label    0    1\n",
      "row_0          \n",
      "0      456   13\n",
      "1       13  469\n",
      "\n",
      " Percentage accuracy\n",
      "0.9726603575184016\n",
      " \n",
      " cross validation\n",
      "[0.97916667 0.96875    1.         0.93684211 0.97894737 0.95789474\n",
      " 0.96842105 0.94736842 0.97894737 1.        ]\n",
      "97.16% +/- 3.89\n"
     ]
    }
   ],
   "source": [
    "pred_y_lasso = lasso_lr.predict(X_test)\n",
    "\n",
    "print('\\n Accuracy')\n",
    "print(pd.crosstab(pred_y_lasso, y_test))\n",
    "\n",
    "print('\\n Percentage accuracy')\n",
    "print(lasso_lr.score(X_test, y_test))\n",
    "\n",
    "print(' \\n cross validation')\n",
    "lasso_cv = cross_val_score(lasso_lr, X_test, y_test, cv=10)\n",
    "print(lasso_cv)\n",
    "print('{:.4}% +/- {:.3}'.format(lasso_cv.mean()*100, np.std(lasso_cv)*200))"
   ]
  },
  {
   "cell_type": "code",
   "execution_count": 9,
   "metadata": {},
   "outputs": [],
   "source": [
    "c = np.around(np.linspace(1, 1e9, 100))\n",
    "\n",
    "vanilla_vals = []\n",
    "lasso_vals = []\n",
    "ridge_vals = []\n",
    "\n",
    "for lambd in c:\n",
    "    vanilla = LogisticRegression(C=lambd, solver='liblinear', random_state=103)\n",
    "    vanilla.fit(X_train, y_train)\n",
    "    r_square_vanilla = vanilla.score(X_test, y_test)\n",
    "    vanilla_vals.append(r_square_vanilla)\n",
    "    \n",
    "    lasso = LogisticRegression(C=lambd, penalty='l1', solver='liblinear', random_state=103)\n",
    "    lasso.fit(X_train, y_train)\n",
    "    r_square_lasso = lasso.score(X_test, y_test)\n",
    "    lasso_vals.append(r_square_lasso)\n",
    "    \n",
    "    ridge = LogisticRegression(C=lambd, penalty='l2', solver='liblinear', random_state=103)\n",
    "    ridge.fit(X_train, y_train)\n",
    "    r_square_ridge = ridge.score(X_test, y_test)\n",
    "    ridge_vals.append(r_square_ridge)"
   ]
  },
  {
   "cell_type": "code",
   "execution_count": 10,
   "metadata": {},
   "outputs": [
    {
     "data": {
      "image/png": "[encoded data removed]",
      "text/plain": [
       "<Figure size 576x360 with 1 Axes>"
      ]
     },
     "metadata": {},
     "output_type": "display_data"
    }
   ],
   "source": [
    "plt.figure(figsize=(8,5))\n",
    "plt.plot(c, vanilla_vals, label='Vanilla')\n",
    "plt.plot(c, lasso_vals, label='Lasso')\n",
    "plt.plot(c, ridge_vals, label='Ridge')\n",
    "plt.title('Lasso Regression $R^2$ value with different $\\lambda$ values')\n",
    "plt.xlabel('$c$')\n",
    "plt.ylabel('$R^2$')\n",
    "plt.ylim(.97, .974)\n",
    "plt.legend()\n",
    "plt.show()"
   ]
  },
  {
   "cell_type": "markdown",
   "metadata": {},
   "source": [
    "\\begin{array}{|c|c|c|c|} \\hline\n",
    "& \\textbf{Vanilla} & \\textbf{Ridge} & \\textbf{Lasso} \\\\ \\hline\n",
    "\\textbf{Train data} \\\\ \\hline\n",
    "\\text{Confusion Matrix} &\n",
    "\\begin{bmatrix} 1087 & 24 \\\\ 28 & 1078  \\\\ \\end{bmatrix} &\n",
    "\\begin{bmatrix} 1087 & 24 \\\\ 28 & 1078  \\\\ \\end{bmatrix} &\n",
    "\\begin{bmatrix} 1090 & 24 \\\\ 25 & 1078  \\\\ \\end{bmatrix} \\\\ \\hline\n",
    "\\text{Accuracy: $R^2$} & 0.9765448804691024 & 0.9765448804691024 & 0.9778980604420388 \\\\ \\hline\n",
    "\\text{10 fold Cross Validation mean: $R^2$}& 97.34 \\pm 1.31 & 97.25 \\pm  1.37 & 97.38 \\pm  1.13 \\\\ \\hline\n",
    "\\textbf{Test data} \\\\ \\hline\n",
    "\\text{Confusion Matrix} &\n",
    "\\begin{bmatrix} 455 & 12 \\\\ 14 & 470  \\\\ \\end{bmatrix} &\n",
    "\\begin{bmatrix} 455 & 12 \\\\ 14 & 470  \\\\ \\end{bmatrix} &\n",
    "\\begin{bmatrix} 456 & 13 \\\\ 13 & 469  \\\\ \\end{bmatrix} \\\\ \\hline\n",
    "\\text{Accuracy: $R^2$} & 0.9726603575184016 & 0.9726603575184016 & 0.9726603575184016 \\\\\\hline\n",
    "\\text{10 fold Cross Validation Mean: $R^2$} & 97.16\\% \\pm 3.4 & 96.85\\% \\pm 4.11 & 97.16\\% \\pm 3.89 \\\\ \\hline\n",
    "\\end{array}"
   ]
  },
  {
   "cell_type": "markdown",
   "metadata": {},
   "source": [
    "Here we can see that overall they did almost exactly the same. On the test set it looks as if Vanilla did ever so slightly better than Lasso in it's standard deviation being slightly less in the cross validation.\n",
    "\n",
    "In the graphg above, you can see that with different C values, both Ridge and Vanilla are more variable, whereas Lasso rises to its max value quickly and stays there. Though, the variability is very small.\n",
    "\n",
    "The model did well enough that I did not need to do any more feature selection than the features already in the dataset. \n",
    "\n",
    "Interesting to note that the lasso regression did not turn any coefficients to 0."
   ]
  },
  {
   "cell_type": "code",
   "execution_count": null,
   "metadata": {},
   "outputs": [],
   "source": []
  }
 ],
 "metadata": {
  "kernelspec": {
   "display_name": "Python 3",
   "language": "python",
   "name": "python3"
  },
  "language_info": {
   "codemirror_mode": {
    "name": "ipython",
    "version": 3
   },
   "file_extension": ".py",
   "mimetype": "text/x-python",
   "name": "python",
   "nbconvert_exporter": "python",
   "pygments_lexer": "ipython3",
   "version": "3.7.0"
  }
 },
 "nbformat": 4,
 "nbformat_minor": 2
}
