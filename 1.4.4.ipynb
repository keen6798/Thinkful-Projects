{
 "cells": [
  {
   "cell_type": "markdown",
   "metadata": {},
   "source": [
    "#### Now it's time to flex your critical evaluation skills. Read the following descriptions of an experiment and its analysis, identify the flaws in each, and describe what you would do to correct them."
   ]
  },
  {
   "cell_type": "markdown",
   "metadata": {},
   "source": [
    "1. The Sith Lords are concerned that their recruiting slogan, \"Give In to Your Anger,\" isn't very effective. Darth Vader develops an alternative slogan, \"Together We Can Rule the Galaxy.\" They compare the slogans on two groups of 50 captured droids each. In one group, Emperor Palpatine delivers the \"Anger\" slogan. In the other, Darth Vader presents the \"Together\" slogan. 20 droids convert to the Dark Side after hearing Palpatine's slogan, while only 5 droids convert after hearing Vader's. The Sith's data scientist concludes that \"Anger\" is a more effective slogan and should continue to be used.\n",
    "\n",
    "    a. I would make sure that it is the same person who delivers both slogans. There could be bias in that Darth Vader might not be as naturally convincing as Palpatine. "
   ]
  },
  {
   "cell_type": "markdown",
   "metadata": {},
   "source": [
    "2. In the past, the Jedi have had difficulty with public relations. They send two envoys, Jar Jar Binks and Mace Windu, to four friendly and four unfriendly planets respectively, with the goal of promoting favorable feelings toward the Jedi. Upon their return, the envoys learn that Jar Jar was much more effective than Windu: Over 75% of the people surveyed said their attitudes had become more favorable after speaking with Jar Jar, while only 65% said their attitudes had become more favorable after speaking with Windu. This makes Windu angry, because he is sure that he had a better success rate than Jar Jar on every planet. The Jedi choose Jar Jar to be their representative in the future.\n",
    "\n",
    "    a. This is an example of Simpsons paradox. That even though Windu is convinced he did better in the subgroup data, the opposite trend is true in the overall data. There is no way for me to know how to fix this problem, unless I could see what the subgroup data says and in that way I would be able to see if there is possible bias in the subgroup data. "
   ]
  },
  {
   "cell_type": "markdown",
   "metadata": {},
   "source": [
    "3. A company with work sites in five different countries has sent you data on employee satisfaction rates for workers in Human Resources and workers in Information Technology. Most HR workers are concentrated in three of the countries, while IT workers are equally distributed across worksites. The company requests a report on satisfaction for each job type. You calculate average job satisfaction for HR and for IT and present the report.\n",
    "\n",
    "    a. Location could be a factor in job happiness, and since HR has more employees in 3 of the 5 sites, there could be bias in that either their location makes them more or less satisfied with the job. So comparing the two different jobs would be slightly skewed because of the location difference. In this case, instead of calculating average job satisfaction overall for HR and IT, I would instead do it by location and give average job satisfaction per job location for each group HR and IT."
   ]
  },
  {
   "cell_type": "markdown",
   "metadata": {},
   "source": [
    "4. When people install the Happy Days Fitness Tracker app, they are asked to \"opt in\" to a data collection scheme where their level of physical activity data is automatically sent to the company for product research purposes. During your interview with the company, they tell you that the app is very effective because after installing the app, the data show that people's activity levels rise steadily.\n",
    "\n",
    "    a. First, there is no data to indicate what users activity levels were before. Second, there is also a novelty effect that would influence the user. People that download the app to help them be more active will often use it more and more at first because it is new and exciting but will often fall after a period of time. So data taken just after the installation is influenced by the novelty effect. "
   ]
  },
  {
   "cell_type": "markdown",
   "metadata": {},
   "source": [
    "5. To prevent cheating, a teacher writes three versions of a test. She stacks the three versions together, first all copies of Version A, then all copies of Version B, then all copies of Version C. As students arrive for the exam, each student takes a test. When grading the test, the teacher finds that students who took Version B scored higher than students who took either Version A or Version C. She concludes from this that Version B is easier, and discards it.\n",
    "\n",
    "    a. It would have been better to randomly distribute the tests. Stacking A then B then C could make it so that students who have similar version could still sit near eachother and cheat. Especially because the students come in and then take a test and sit down. If the students come in with friends who they sit next to, then they could both take the same exam and cheat off of eachother anyway. There is a possibility that it could have a bias in that students that arrive very early are more anxious and don't do as well or students that arrive later also don't do as well, so there could be a bias in the arrival time of students as well. I would wait until all the students are seated and then randomly distribute the tests between them. It also doesn't seem like this teacher conclusion has much to do with cheating either. "
   ]
  }
 ],
 "metadata": {
  "kernelspec": {
   "display_name": "Python 3",
   "language": "python",
   "name": "python3"
  },
  "language_info": {
   "codemirror_mode": {
    "name": "ipython",
    "version": 3
   },
   "file_extension": ".py",
   "mimetype": "text/x-python",
   "name": "python",
   "nbconvert_exporter": "python",
   "pygments_lexer": "ipython3",
   "version": "3.7.0"
  }
 },
 "nbformat": 4,
 "nbformat_minor": 2
}
